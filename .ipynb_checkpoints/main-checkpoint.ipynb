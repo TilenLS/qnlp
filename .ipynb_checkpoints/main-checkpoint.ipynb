{
 "cells": [
  {
   "cell_type": "code",
   "execution_count": 302,
   "id": "02d70262-80c0-4416-9976-aeef1ddd5296",
   "metadata": {},
   "outputs": [],
   "source": [
    "import numpy as np \n",
    "import pandas as pd \n",
    "from tqdm import tqdm \n",
    "from discopro.grammar import tensor\n",
    "from lambeq import BobcatParser, NumpyModel, AtomicType, Rewriter, Dataset, QuantumTrainer, SPSAOptimizer , AtomicType, IQPAnsatz, RemoveCupsRewriter\n",
    "from lambeq.backend.grammar import Spider\n",
    "from lambeq.rewrite import UnifyCodomainRewriter\n",
    "from lambeq.backend.drawing import draw\n",
    "from lambeq.backend.grammar import Ty\n",
    "from tqdm import tqdm\n",
    "import random\n",
    "import datetime\n",
    "from discopro.anaphora import connect_anaphora_on_top\n",
    "from contextuality.model import Model, Scenario, CyclicScenario\n",
    "from lambeq.backend.quantum import Box, qubit, SelfConjugate, Ry, Diagram\n",
    "import sys\n",
    "from lambeq.training import BinaryCrossEntropyLoss\n",
    "import matplotlib.pyplot as plt\n",
    "import os"
   ]
  },
  {
   "cell_type": "code",
   "execution_count": 294,
   "id": "fc1e8d19-f400-4baf-89fc-7b457aca2c8d",
   "metadata": {},
   "outputs": [],
   "source": [
    "remove_cups = RemoveCupsRewriter()\n",
    "\n",
    "parser = BobcatParser()\n",
    "rewriter = Rewriter(['auxiliary',\n",
    "                     'connector',\n",
    "                     'coordination',\n",
    "                     'determiner',\n",
    "                     'object_rel_pronoun',\n",
    "                     'subject_rel_pronoun',\n",
    "                     'postadverb',\n",
    "                     'preadverb',\n",
    "                     'prepositional_phrase'])\n",
    "\n",
    "N = AtomicType.NOUN\n",
    "S = AtomicType.SENTENCE\n",
    "P = AtomicType.PREPOSITIONAL_PHRASE \n",
    "\n",
    "ansatz = IQPAnsatz({N: 1, S: 1, P:1}, n_layers=1, n_single_qubit_params=3) "
   ]
  },
  {
   "cell_type": "code",
   "execution_count": 295,
   "id": "1bcc9f45-31b4-4249-b743-56a74148690c",
   "metadata": {},
   "outputs": [],
   "source": [
    "def sent2dig(sentence1: str, sentence2: str, pro: str, ref: str, mode='none'):\n",
    "    diagram1 = parser.sentence2diagram(sentence1)\n",
    "    diagram2 = parser.sentence2diagram(sentence2)\n",
    "    diagram = tensor(diagram1,diagram2)\n",
    "    if mode == 'spider':\n",
    "        diagram = diagram >> Spider(S, 2, 1)\n",
    "    elif mode == 'box':\n",
    "        merger = UnifyCodomainRewriter(Ty('s'))\n",
    "        diagram = merger(diagram)\n",
    "    diagram = generate_diagram(diagram, pro, ref)\n",
    "    pro_box_idx = next(i for i, box in enumerate(diagram.boxes) if box.name.casefold() == pro.casefold())\n",
    "    ref_box_idx = next(i for i, box in enumerate(diagram.boxes) if box.name.casefold() == ref.casefold())\n",
    "    final_diagram = connect_anaphora_on_top(diagram, pro_box_idx, ref_box_idx)\n",
    "    rewritten_diagram = rewriter(remove_cups(final_diagram)).normal_form()\n",
    "    return rewritten_diagram"
   ]
  },
  {
   "cell_type": "code",
   "execution_count": 304,
   "id": "c6fee0f0-5cd0-4e6e-b7aa-7a409d55c46f",
   "metadata": {},
   "outputs": [],
   "source": [
    "def gen_labels(path: str, verbose=False):\n",
    "    df = pd.read_csv(path, index_col=0)\n",
    "    \n",
    "    if not os.path.exists(os.getcwd()+'/err_logs'):\n",
    "        os.mkdir(os.getcwd()+'/err_logs')\n",
    "    timestamp = datetime.datetime.now().strftime(\"%Y-%m-%d_%H_%M_%S\")\n",
    "    f = open(\"err_logs/log_\"+df.+timestamp+\".txt\",'w')\n",
    "    \n",
    "    circuits, labels, diagrams = [],[],[]\n",
    "    #selected_cols = [random.choice(['referent', 'wrong_referent']) for i in range(len(df))]\n",
    "    for i, row in tqdm(df.iterrows(), total=len(df), position=0, leave=True):\n",
    "        #ref = row[selected_cols[i]]\n",
    "        # label = [0,1] if selected_cols[i] == 'referent' else [1,0]\n",
    "        label = [[0.25, 0.25],[0.25, 0.25]]\n",
    "        sent1, sent2, pro, ref = row[['sentence1', 'sentence2', 'pronoun', 'referent']]\n",
    "\n",
    "        try:\n",
    "            diagram = sent2dig(sent1.strip(), sent2.strip(), pro.strip(), ref.strip())\n",
    "            diagrams.append(diagram)\n",
    "            circ = ansatz(diagram)\n",
    "            circuits.append(circ)\n",
    "            labels.append(label)\n",
    "        except Exception as err:\n",
    "            tqdm.write(f\"Error: {err}\".strip(), file=f)\n",
    "            if verbose:\n",
    "                tqdm.write(f\"Error: {err}\".strip(), file=sys.stderr)\n",
    "    f.close()\n",
    "    \n",
    "    return circuits, labels, diagrams"
   ]
  },
  {
   "cell_type": "code",
   "execution_count": 306,
   "id": "78ec4e10-1684-45d3-8f02-af63ed7f1622",
   "metadata": {},
   "outputs": [
    {
     "name": "stderr",
     "output_type": "stream",
     "text": [
      "100%|█████████████████████████████████████████████████████████████████████████████████████████████████████████████████████| 10/10 [00:04<00:00,  2.40it/s]\n",
      "100%|█████████████████████████████████████████████████████████████████████████████████████████████████████████████████████| 10/10 [00:03<00:00,  2.70it/s]\n",
      "100%|█████████████████████████████████████████████████████████████████████████████████████████████████████████████████████| 10/10 [00:03<00:00,  2.75it/s]\n"
     ]
    }
   ],
   "source": [
    "train_circuits, train_labels, train_diagrams = gen_labels('dataset/original_data/train.csv')\n",
    "val_circuits, val_labels, val_diagrams = gen_labels('dataset/original_data/val.csv')\n",
    "test_circuits, test_labels, test_diagrams = gen_labels('dataset/original_data/test.csv')"
   ]
  },
  {
   "cell_type": "code",
   "execution_count": 146,
   "id": "86c98d2b-33e9-4b5e-98ea-6a96b2d8cb24",
   "metadata": {
    "scrolled": true
   },
   "outputs": [],
   "source": [
    "model = NumpyModel.from_diagrams(train_circuits + val_circuits + test_circuits, use_jit=False)\n",
    "loss = BinaryCrossEntropyLoss(use_jax=True)\n",
    "eval_metrics = {\"err\": lambda y_hat, y: np.sqrt(np.mean((y_hat-y)**2)/2)}"
   ]
  },
  {
   "cell_type": "code",
   "execution_count": 147,
   "id": "f9f6c331-e322-45f3-b283-73d7fc25e7d7",
   "metadata": {},
   "outputs": [],
   "source": [
    "SEED = random.randint(0, 1000)\n",
    "BATCH_SIZE = 20\n",
    "EPOCHS = 500"
   ]
  },
  {
   "cell_type": "code",
   "execution_count": 154,
   "id": "915a1ed8-d815-4d77-b9df-1aa35fbbc60b",
   "metadata": {},
   "outputs": [],
   "source": [
    "train_dataset = Dataset(train_circuits, train_labels, batch_size=BATCH_SIZE)\n",
    "val_dataset = Dataset(val_circuits, val_labels, shuffle=True)\n",
    "test_dataset = Dataset(test_circuits, test_labels)"
   ]
  },
  {
   "cell_type": "code",
   "execution_count": 150,
   "id": "e82c8913-89b6-4e91-8046-84ba8ca05da9",
   "metadata": {},
   "outputs": [],
   "source": [
    "trainer = QuantumTrainer(model,\n",
    "                         loss_function=loss,\n",
    "                         optimizer=SPSAOptimizer,\n",
    "                         epochs=EPOCHS,\n",
    "                         optim_hyperparams={'a': 0.1, 'c': 0.06, 'A': 0.01 * EPOCHS},\n",
    "                         evaluate_functions=eval_metrics,\n",
    "                         evaluate_on_train=True,\n",
    "                         verbose='text', \n",
    "                         seed=SEED)"
   ]
  },
  {
   "cell_type": "code",
   "execution_count": null,
   "id": "23eee093-adab-45d0-8082-99fc02e6028a",
   "metadata": {},
   "outputs": [],
   "source": [
    "print(datetime.datetime.now().strftime(\"%Y-%m-%d_%H_%M_%S\"))\n",
    "trainer.fit(train_dataset, val_dataset, eval_interval=1, log_interval=1)\n",
    "test_acc = acc(model(test_dataset.data), test_dataset.targets)\n",
    "print('Test accuracy:', test_acc)"
   ]
  },
  {
   "cell_type": "code",
   "execution_count": 256,
   "id": "b3072438-8662-426e-9150-4254e1fbcbc6",
   "metadata": {},
   "outputs": [],
   "source": [
    "def train(trainer: QuantumTrainer, EPOCH_ARR: [int], BATCH_ARR: [int], SEED_N: int, train_dataset: Dataset, val_dataset: Dataset, test_dataset: Dataset):\n",
    "    SEEDS = random.sample(range(1000), SEED_N)\n",
    "\n",
    "    print(\"%0s %25s %10s %10s %25s\" % (\"Time\",\"Epochs\",\"Batch\",\"Seed\",\"Accuracy\"))\n",
    "    for EPOCHS in EPOCH_ARR:\n",
    "        for BATCH_SIZE in BATCH_ARR:\n",
    "            for SEED in SEEDS:\n",
    "                trainer.epochs = EPOCH\n",
    "                trainer.optim_hyperparams = {'a': 0.1, 'c': 0.06, 'A': 0.01 * EPOCHS}\n",
    "                train_dataset.batch_size = BATCH_SIZE\n",
    "                print(datetime.datetime.now().strftime(\"%Y-%m-%d_%H_%M_%S\"), end='')\n",
    "                trainer.fit(train_dataset, val_dataset, eval_interval=1, log_interval=1)\n",
    "                test_acc = acc(model(test_circuits), test_labels)\n",
    "                print(\"%11s %10s %10s %25s\" % (EPOCHS, BATCH_SIZE, SEED, test_acc))"
   ]
  },
  {
   "cell_type": "code",
   "execution_count": 13,
   "id": "e80177b7-289e-41f7-8b64-afdc81663572",
   "metadata": {},
   "outputs": [],
   "source": [
    "best_model = NumpyModel.from_checkpoint('runs/Jul02_12-46-52_smew.cs.ucl.ac.uk/best_model.lt')\n",
    "best_model.initialise_weights()"
   ]
  },
  {
   "cell_type": "code",
   "execution_count": 257,
   "id": "061d3a26-2900-4e39-80e7-31906393dd63",
   "metadata": {},
   "outputs": [],
   "source": [
    "def gen_emp(diags: [Diagram], model: NumpyModel) -> Model:\n",
    "    scenario = CyclicScenario(['a','b','A','B'],2)\n",
    "    prob_dist = []\n",
    "    for diag in diags:\n",
    "        prob_dist.append(model.get_diagram_output([diag])[0].flatten())\n",
    "    return Model(scenario, prob_dist)"
   ]
  },
  {
   "cell_type": "code",
   "execution_count": 278,
   "id": "d748435a-6719-44b7-a398-17679514e419",
   "metadata": {},
   "outputs": [],
   "source": [
    "class data_scenario:\n",
    "    def __init__(self, scenario, data, model):\n",
    "        self.scenario = scenario\n",
    "        self.data = data\n",
    "        self.model = model\n",
    "        try:\n",
    "            self.model.initialise_weights()\n",
    "        except Exception as err:\n",
    "            print(\"Model is not valid or none provided: \", err)\n",
    "        self.emp_models = []\n",
    "\n",
    "    def gen_emp(self, s1, s2, p, n):\n",
    "        try:\n",
    "            diag = ansatz(sent2dig(s1, s2, p, n))\n",
    "        except Exception as err:\n",
    "            print(\"Error: \", err)\n",
    "            return None\n",
    "        diagXX = diag.apply_gate(Ry(0),0).apply_gate(Ry(np.pi/8),1)\n",
    "        diagXZ = diag.apply_gate(Ry(0),0).apply_gate(Ry(3*np.pi/8),1)\n",
    "        diagZX = diag.apply_gate(Ry(np.pi/4),0).apply_gate(Ry(np.pi/8),1)\n",
    "        diagZZ = diag.apply_gate(Ry(np.pi/4),0).apply_gate(Ry(3*np.pi/8),1)\n",
    "        dist = [self.model.get_diagram_output([diagXX])[0].flatten()]\n",
    "        dist.append(self.model.get_diagram_output([diagXZ])[0].flatten())\n",
    "        dist.append(self.model.get_diagram_output([diagZX])[0].flatten())\n",
    "        dist.append(self.model.get_diagram_output([diagZZ])[0].flatten())\n",
    "        #dist = self.model.get_diagram_output([diagXX, diagXZ, diagZX, diagZZ])\n",
    "        emp_model = Model(self.scenario, dist)\n",
    "        return emp_model\n",
    "\n",
    "    def get_models(self):\n",
    "        for _, row in tqdm(self.data.iterrows(), total=len(self.data)):\n",
    "            self.emp_models.append(gen_emp(s1, s2, p, n = row[['sentence1','sentence2','pronoun','referent']]))\n",
    "        return self.emp_models\n",
    "\n",
    "    def plot_cnxt(self):\n",
    "        sf, di = [], []\n",
    "        for mod in self.emp_models:\n",
    "            sf.append(mod.signalling_fraction())\n",
    "            di.append(mod.CbD_direct_influence())\n",
    "        plt.scatter(x, y)\n",
    "        plt.axhline(y=2, color='g', linestyle='-')\n",
    "        plt.axvline(x=1/6, color='g', linestyle='-')\n",
    "        plt.show()"
   ]
  },
  {
   "cell_type": "code",
   "execution_count": null,
   "id": "013ca08d-d811-4182-b35e-f5f3c85fcf67",
   "metadata": {},
   "outputs": [],
   "source": []
  }
 ],
 "metadata": {
  "kernelspec": {
   "display_name": "qnlp",
   "language": "python",
   "name": "qnlp"
  },
  "language_info": {
   "codemirror_mode": {
    "name": "ipython",
    "version": 3
   },
   "file_extension": ".py",
   "mimetype": "text/x-python",
   "name": "python",
   "nbconvert_exporter": "python",
   "pygments_lexer": "ipython3",
   "version": "3.12.3"
  }
 },
 "nbformat": 4,
 "nbformat_minor": 5
}
