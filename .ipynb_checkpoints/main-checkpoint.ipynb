{
 "cells": [
  {
   "cell_type": "code",
   "execution_count": 62,
   "id": "02d70262-80c0-4416-9976-aeef1ddd5296",
   "metadata": {},
   "outputs": [],
   "source": [
    "import numpy as np  \n",
    "import matplotlib.pyplot as plt\n",
    "from lambeq.backend.quantum import Ry, Diagram, Bra\n",
    "from util import data_loader, gen_bloch_states\n",
    "from contextuality.model import chsh_scenario, Model\n",
    "import seaborn as sns\n",
    "from funcs import std2cyc, calc_vne, partial_trace, state2dense"
   ]
  },
  {
   "cell_type": "code",
   "execution_count": 63,
   "id": "d3939859-5d39-4bfc-8b46-0e5e97023079",
   "metadata": {},
   "outputs": [],
   "source": [
    "H = np.array([[1,1],[1,-1]])*1/np.sqrt(2)\n",
    "I = np.identity(2)\n",
    "scenario = chsh_scenario()\n",
    "# Not hermitian but normal\n",
    "observables = {'a':Ry(0), 'A':Ry(np.pi/4), 'b':Ry(np.pi/8), 'B':Ry(3*np.pi/8)}\n",
    "contexts = {'ab': np.kron(Ry(0).array, Ry(np.pi/8).array),\n",
    "            'aB': np.kron(Ry(0).array, Ry(3*np.pi/8).array),\n",
    "            'Ab': np.kron(Ry(np.pi/4).array, Ry(np.pi/8).array),\n",
    "            'AB': np.kron(Ry(np.pi/4).array, Ry(3*np.pi/8).array)}\n",
    "contexts_basic = {'ab': np.kron(I, I),\n",
    "                  'aB': np.kron(I, H),\n",
    "                  'Ab': np.kron(H, I),\n",
    "                  'AB': np.kron(H, H)}"
   ]
  },
  {
   "cell_type": "code",
   "execution_count": 64,
   "id": "7f1cee9c-cbdd-4081-8ba8-a84d699d649d",
   "metadata": {},
   "outputs": [],
   "source": [
    "model_path = {'d_ref': 'runs/disjoint_ref_130E/best_model.lt', \n",
    "              'd_nref': 'runs/disjoint_noref_140E/best_model.lt',\n",
    "              's_ref': 'runs/spider_ref_200E/best_model.lt', \n",
    "              's_nref': 'runs/spider_noref_50E/best_model.lt'}\n",
    "\n",
    "diagram_path = {'rref': 'dataset/diagrams/diags_right_ref.pkl',\n",
    "                'wref': 'dataset/diagrams/diags_wrong_ref.pkl',\n",
    "                'nref': 'dataset/diagrams/diags_no_ref.pkl'}\n",
    "\n",
    "data_path = {'d_nref': 'dataset/contextuality_data/disjoint_noref.csv',\n",
    "             'd_rref': 'dataset/contextuality_data/disjoint_ref_right.csv',\n",
    "             'd_wref': 'dataset/contextuality_data/disjoint_ref_wrong.csv',\n",
    "             's_nref': 'dataset/contextuality_data/spider_noref.csv',\n",
    "             's_rref': 'dataset/contextuality_data/spider_ref_right.csv',\n",
    "             's_wref': 'dataset/contextuality_data/spider_ref_wrong.csv',}"
   ]
  },
  {
   "cell_type": "code",
   "execution_count": null,
   "id": "5c59fde0-feb3-481d-b38a-9a50e1695f51",
   "metadata": {},
   "outputs": [],
   "source": [
    "tmp = data_loader(scenario=scenario, model_path=model_path['s_ref'])\n",
    "tmp.load_diagrams(diagram_path['wref'])"
   ]
  },
  {
   "cell_type": "code",
   "execution_count": 6,
   "id": "a67f8119-24a9-401b-a84d-0aab944eef66",
   "metadata": {},
   "outputs": [],
   "source": [
    "tmp.gen_data('dataset/s442_2024-07-29_141043.pkl')"
   ]
  },
  {
   "cell_type": "code",
   "execution_count": 8,
   "id": "d52d91c1-e9e4-4d43-acba-464d8bbf6033",
   "metadata": {},
   "outputs": [],
   "source": [
    "out_cur = tmp.data['State'][372]"
   ]
  },
  {
   "cell_type": "code",
   "execution_count": 8,
   "id": "465b8726-96ac-4dfa-9f73-226f16e0e2f5",
   "metadata": {},
   "outputs": [],
   "source": [
    "def plot_scatter(fig, x, y, z):\n",
    "    cmap = plt.get_cmap('viridis_r')\n",
    "    cmap.set_under('red')\n",
    "    fig.scatter(x=x, y=y, c=z, cmap=cmap)\n",
    "    fig.set_alpha(0.5)\n",
    "    return fig"
   ]
  },
  {
   "cell_type": "code",
   "execution_count": 9,
   "id": "7ee80438-dae9-46b1-9abe-61f84ee7bd85",
   "metadata": {},
   "outputs": [],
   "source": [
    "def plot_dist(fig, data1, data2, l1, l2):\n",
    "    sns.kdeplot(data=data1, color='crimson', label='spider', fill=True, ax=fig)\n",
    "    sns.kdeplot(data=data2, color='limegreen', label='disjoint', fill=True, ax=fig)\n",
    "    fig.legend()"
   ]
  },
  {
   "cell_type": "code",
   "execution_count": 10,
   "id": "3221ffda-d553-4d8e-836f-a207ff2879b4",
   "metadata": {},
   "outputs": [],
   "source": [
    "def plot_heatmap(fig, x, y, z):\n",
    "    fig.figure(figsize=(7,7), dpi=100)\n",
    "    fig.imshow(z , cmap = 'jet' , interpolation = 'gaussian' , \n",
    "           origin='lower', aspect='equal',  extent = [min(x), max(x), min(y), max(y)])\n",
    "    fig.colorbar()\n",
    "    return fig"
   ]
  },
  {
   "cell_type": "code",
   "execution_count": 35,
   "id": "534c25d6-f79d-4514-8fec-1de9adb39dac",
   "metadata": {
    "scrolled": true
   },
   "outputs": [],
   "source": [
    "cf = []\n",
    "eoe = []\n",
    "for state in tmp.data['State']:\n",
    "    try:\n",
    "        state1 = contexts['ab'] @ state\n",
    "        state2 = contexts['aB'] @ state\n",
    "        state3 = contexts['Ab'] @ state\n",
    "        state4 = contexts['AB'] @ state\n",
    "    \n",
    "        state1 = state1 * np.conjugate(state1)\n",
    "        state2 = state2 * np.conjugate(state2)\n",
    "        state3 = state3 * np.conjugate(state3)\n",
    "        state4 = state4 * np.conjugate(state4)\n",
    "        \n",
    "        pr_dist = np.array([state1.real, state2.real, state3.real, state4.real])\n",
    "        cf.append(Model(scenario, std2cyc(pr_dist)).contextual_fraction())\n",
    "\n",
    "        rho_a, rho_b = partial_trace(state2dense(state))\n",
    "        eoe.append(calc_vne(rho_a))\n",
    "    except Exception as e:\n",
    "        print(e)"
   ]
  },
  {
   "cell_type": "code",
   "execution_count": 36,
   "id": "0ef87ab4-39a7-48a0-8bbc-0a721cb1f99d",
   "metadata": {},
   "outputs": [],
   "source": [
    "cf_valid = np.array(cf)\n",
    "eoe_valid = np.array(eoe)"
   ]
  },
  {
   "cell_type": "code",
   "execution_count": 16,
   "id": "3286e45b-1b88-44b0-84ac-79857091ab71",
   "metadata": {},
   "outputs": [],
   "source": [
    "cf_test = tmp.data['CF']\n",
    "eoe_test = tmp.data['Entropy']"
   ]
  },
  {
   "cell_type": "code",
   "execution_count": 25,
   "id": "8abacab1-a066-4f29-856d-736dddbe27ce",
   "metadata": {},
   "outputs": [
    {
     "data": {
      "text/plain": [
       "<Axes: >"
      ]
     },
     "execution_count": 25,
     "metadata": {},
     "output_type": "execute_result"
    },
    {
     "data": {
      "image/png": "[encoded data removed]",
      "text/plain": [
       "<Figure size 640x480 with 1 Axes>"
      ]
     },
     "metadata": {},
     "output_type": "display_data"
    }
   ],
   "source": [
    "plot_scatter(plt.axes(), cf_valid, cf_test, eoe_test)"
   ]
  },
  {
   "cell_type": "code",
   "execution_count": 34,
   "id": "d9fbf331-6380-4570-99ef-2000cd712648",
   "metadata": {},
   "outputs": [
    {
     "data": {
      "text/plain": [
       "96"
      ]
     },
     "execution_count": 34,
     "metadata": {},
     "output_type": "execute_result"
    }
   ],
   "source": [
    "len(cf_valid[abs(cf_valid) > 1e-7])"
   ]
  },
  {
   "cell_type": "code",
   "execution_count": null,
   "id": "bb516357-a8a8-4ee5-a4ec-46be838fdcc7",
   "metadata": {},
   "outputs": [],
   "source": []
  }
 ],
 "metadata": {
  "kernelspec": {
   "display_name": "qnlp",
   "language": "python",
   "name": "qnlp"
  },
  "language_info": {
   "codemirror_mode": {
    "name": "ipython",
    "version": 3
   },
   "file_extension": ".py",
   "mimetype": "text/x-python",
   "name": "python",
   "nbconvert_exporter": "python",
   "pygments_lexer": "ipython3",
   "version": "3.12.4"
  }
 },
 "nbformat": 4,
 "nbformat_minor": 5
}
