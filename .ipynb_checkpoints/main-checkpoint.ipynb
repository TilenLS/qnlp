{
 "cells": [
  {
   "cell_type": "code",
   "execution_count": 1,
   "id": "02d70262-80c0-4416-9976-aeef1ddd5296",
   "metadata": {},
   "outputs": [],
   "source": [
    "import numpy as np  \n",
    "import matplotlib.pyplot as plt\n",
    "from lambeq.backend.quantum import Ry, Diagram, Bra, Rx, Rz\n",
    "from util import data_loader, gen_bloch_states, get_observable, plot_scatter, plot_dist, plot_heatmap\n",
    "from contextuality.model import chsh_scenario, Model\n",
    "import seaborn as sns\n",
    "from funcs import calc_eoe, calc_neg, state2dense, gen_basis, calc_violation, convert_dist, convert_phase, normalise, partial_trace, log_neg\n",
    "import pandas as pd"
   ]
  },
  {
   "cell_type": "code",
   "execution_count": 47,
   "id": "62bac443-1ed8-4ebd-b2e1-045d86fa7136",
   "metadata": {},
   "outputs": [],
   "source": [
    "x_basis = gen_basis(np.pi/2, 0)\n",
    "y_basis = gen_basis(np.pi/2, np.pi/2)\n",
    "z_basis = gen_basis()\n",
    "\n",
    "onb1 = gen_basis(np.pi/2, np.pi/8)[0]\n",
    "onb2 = gen_basis(np.pi/2, 5*np.pi/8)[0]\n",
    "\n",
    "contexts_cc = {'ab': np.kron(onb1, onb1), \n",
    "               'aB': np.kron(onb1, onb2),  \n",
    "               'Ab': np.kron(onb2, onb1),  \n",
    "               'AB': np.kron(onb2, onb2)}\n",
    "_observables = {'A': (get_observable('ONB1', np.pi/2, np.pi/8), get_observable('ONB2', np.pi/2, 5*np.pi/8)), 'B': (get_observable('ONB1', np.pi/2, np.pi/8), get_observable('ONB2', np.pi/2, 5*np.pi/8))}\n",
    "observables = {'A': (get_observable('a1', 0, 0), get_observable('a2', np.pi/4, 0)), 'B': (get_observable('b1', np.pi/8, 0), get_observable('b2', 5*np.pi/8, 0))}\n",
    "contexts_max = {'ab': np.kron(observables['A'][0].array, observables['B'][0].array),\n",
    "                'aB': np.kron(observables['A'][0].array, observables['B'][1].array), \n",
    "                'Ab': np.kron(observables['A'][1].array, observables['B'][0].array), \n",
    "                'AB': np.kron(observables['A'][1].array, observables['B'][1].array)}\n",
    "\n",
    "# bell_state = np.array([1,0,0,1]) * 1/(2**0.5)\n",
    "# prs1 = abs(contexts_cc['ab'] @ bell_state)**2\n",
    "# prs2 = abs(contexts_cc['aB'] @ bell_state)**2\n",
    "# prs3 = abs(contexts_cc['Ab'] @ bell_state)**2\n",
    "# prs4 = abs(contexts_cc['AB'] @ bell_state)**2\n",
    "# Model(chsh_scenario(), convert_dist([prs1, prs2, prs3, prs4])).contextual_fraction()\n",
    "subj_obj_pairs = [('heart', 'blood'), ('sailors', 'boats'), ('students', 'books'), ('knife', 'fence'),\n",
    "                  ('storm', 'flight'), ('bee', 'flower'), ('birds', 'seeds'), ('police', 'criminals'), \n",
    "                  ('people', 'government'), ('sniper', 'terrorist')]"
   ]
  },
  {
   "cell_type": "code",
   "execution_count": 3,
   "id": "7f1cee9c-cbdd-4081-8ba8-a84d699d649d",
   "metadata": {},
   "outputs": [],
   "source": [
    "model_path = {'d_ref': 'runs/disjoint_ref_130E/best_model.lt', \n",
    "              'd_nref': 'runs/disjoint_noref_140E/best_model.lt',\n",
    "              's_ref': 'runs/spider_ref_200E/best_model.lt', \n",
    "              's_nref': 'runs/spider_noref_50E/best_model.lt'}\n",
    "\n",
    "diagram_path = {'rref': 'dataset/diagrams/diags_right_ref.pkl',\n",
    "                'wref': 'dataset/diagrams/diags_wrong_ref.pkl',\n",
    "                'nref': 'dataset/diagrams/diags_no_ref.pkl'}\n",
    "\n",
    "data_path = {'d_nref': 'dataset/contextuality_data/disjoint_noref.csv',\n",
    "             'd_rref': 'dataset/contextuality_data/disjoint_ref_right.csv',\n",
    "             'd_wref': 'dataset/contextuality_data/disjoint_ref_wrong.csv',\n",
    "             's_nref': 'dataset/contextuality_data/spider_noref.csv',\n",
    "             's_rref': 'dataset/contextuality_data/spider_ref_right.csv',\n",
    "             's_wref': 'dataset/contextuality_data/spider_ref_wrong.csv',}"
   ]
  },
  {
   "cell_type": "code",
   "execution_count": 46,
   "id": "941a9d1e-d11e-4bc0-aa32-4a6c73e14ad3",
   "metadata": {},
   "outputs": [
    {
     "name": "stderr",
     "output_type": "stream",
     "text": [
      "Error: 'Unknown symbol: storm__n@n.l_0'                                                                                                                               \n",
      "Error: 'Unknown symbol: the__n.r@n@n.l_0'                                                                                                                             \n",
      "Error: 'Unknown symbol: storm__n@n.l_0'                                                                                                                               \n",
      "Error: 'Unknown symbol: storm__n@n.l_0'                                                                                                                               \n",
      "Error: 'Unknown symbol: storm__n@n.l_0'                                                                                                                               \n",
      "100%|█████████████████████████████████████████████████████████████████████████████████████████████████████████████████████████████| 3273/3273 [06:00<00:00,  9.09it/s]\n"
     ]
    }
   ],
   "source": [
    "s_wr = data_loader(chsh_scenario(), model_path=model_path['s_nref'])\n",
    "s_wr.load_circuits(diagram_path['nref'])\n",
    "s_wr.gen_data()"
   ]
  },
  {
   "cell_type": "code",
   "execution_count": null,
   "id": "a71e8adb-c295-4564-b8ba-bb3952c39fa8",
   "metadata": {},
   "outputs": [],
   "source": []
  }
 ],
 "metadata": {
  "kernelspec": {
   "display_name": "qnlp",
   "language": "python",
   "name": "qnlp"
  },
  "language_info": {
   "codemirror_mode": {
    "name": "ipython",
    "version": 3
   },
   "file_extension": ".py",
   "mimetype": "text/x-python",
   "name": "python",
   "nbconvert_exporter": "python",
   "pygments_lexer": "ipython3",
   "version": "3.12.4"
  }
 },
 "nbformat": 4,
 "nbformat_minor": 5
}
