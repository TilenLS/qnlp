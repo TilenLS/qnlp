{
 "cells": [
  {
   "cell_type": "code",
   "execution_count": 51,
   "id": "79d9bea1-8ad9-4ae6-b905-bc35da3d23e4",
   "metadata": {},
   "outputs": [],
   "source": [
    "import numpy as np\n",
    "import pandas as pd \n",
    "from tqdm import tqdm\n",
    "\n",
    "df_train = pd.read_csv('dataset/train.csv', index_col=0)\n",
    "df_test = pd.read_csv('dataset/test.csv', index_col=0)\n",
    "df_val = pd.read_csv('dataset/val.csv', index_col=0)\n",
    "\n",
    "df = pd.concat([df_train, df_test, df_val])"
   ]
  },
  {
   "cell_type": "code",
   "execution_count": 59,
   "id": "0917124f-5b00-4ed6-a784-dda47b6425a5",
   "metadata": {},
   "outputs": [],
   "source": [
    "def merge_duplicates(df: pd.DataFrame) -> pd.DataFrame:\n",
    "    df.sort_values(by='sentence1', inplace=True, ignore_index=True)\n",
    "    targets = [i for i, val in df.duplicated(keep=False, subset=['sentence1']).items() if val]\n",
    "    dupes = []    \n",
    "    for i in targets:\n",
    "        next_row = i + 1\n",
    "        while next_row < len(df) and df.iloc[i]['sentence1'] == df.iloc[next_row]['sentence1']:\n",
    "            entry1 = df.iloc[i]\n",
    "            entry2 = df.iloc[next_row]\n",
    "            new_entry = pd.Series({'sentence1': entry1['sentence1'], \n",
    "                 'sentence21': entry1['sentence2'], \n",
    "                 'sentence22': entry2['sentence2'], \n",
    "                 'pronoun': entry1['pronoun'], \n",
    "                 'referent1': entry1['referent'], \n",
    "                 'wrong_referent1': entry1['wrong_referent'], \n",
    "                 'referent2': entry2['referent'], \n",
    "                 'wrong_referent2': entry2['wrong_referent']})            \n",
    "            dupes.append(new_entry)\n",
    "            next_row += 1\n",
    "    df_dup = pd.DataFrame(dupes)\n",
    "    return df_dup"
   ]
  },
  {
   "cell_type": "code",
   "execution_count": 56,
   "id": "3737e64b-d8f2-434a-93d7-9850d3c27376",
   "metadata": {},
   "outputs": [],
   "source": [
    "merge_duplicates(df).to_csv('dupes.csv')"
   ]
  },
  {
   "cell_type": "code",
   "execution_count": null,
   "id": "09368599-49eb-4835-8d4d-c8a5509ef024",
   "metadata": {},
   "outputs": [],
   "source": []
  }
 ],
 "metadata": {
  "kernelspec": {
   "display_name": "qnlp",
   "language": "python",
   "name": "qnlp"
  },
  "language_info": {
   "codemirror_mode": {
    "name": "ipython",
    "version": 3
   },
   "file_extension": ".py",
   "mimetype": "text/x-python",
   "name": "python",
   "nbconvert_exporter": "python",
   "pygments_lexer": "ipython3",
   "version": "3.12.3"
  }
 },
 "nbformat": 4,
 "nbformat_minor": 5
}
