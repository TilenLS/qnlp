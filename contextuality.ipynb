{
 "cells": [
  {
   "cell_type": "code",
   "execution_count": 2,
   "id": "fd16891f-2340-4678-8318-051a476bdb68",
   "metadata": {},
   "outputs": [],
   "source": [
    "from contextuality.model import *\n",
    "from contextuality.utils import *\n",
    "from contextuality.functions import *"
   ]
  },
  {
   "cell_type": "code",
   "execution_count": 4,
   "id": "39391686-a944-4a6d-8742-eefe1431aea6",
   "metadata": {},
   "outputs": [
    {
     "ename": "ModuleNotFoundError",
     "evalue": "No module named 'test.test_functions'",
     "output_type": "error",
     "traceback": [
      "\u001b[0;31m---------------------------------------------------------------------------\u001b[0m",
      "\u001b[0;31mModuleNotFoundError\u001b[0m                       Traceback (most recent call last)",
      "Cell \u001b[0;32mIn[4], line 1\u001b[0m\n\u001b[0;32m----> 1\u001b[0m \u001b[38;5;28;01mfrom\u001b[39;00m \u001b[38;5;21;01mtest\u001b[39;00m\u001b[38;5;21;01m.\u001b[39;00m\u001b[38;5;21;01mtest_functions\u001b[39;00m \u001b[38;5;28;01mimport\u001b[39;00m \u001b[38;5;241m*\u001b[39m\n\u001b[1;32m      2\u001b[0m \u001b[38;5;28;01mfrom\u001b[39;00m \u001b[38;5;21;01mtest\u001b[39;00m\u001b[38;5;21;01m.\u001b[39;00m\u001b[38;5;21;01mtest_model\u001b[39;00m \u001b[38;5;28;01mimport\u001b[39;00m \u001b[38;5;241m*\u001b[39m\n\u001b[1;32m      3\u001b[0m \u001b[38;5;28;01mfrom\u001b[39;00m \u001b[38;5;21;01mtest\u001b[39;00m\u001b[38;5;21;01m.\u001b[39;00m\u001b[38;5;21;01mtest_scenario\u001b[39;00m \u001b[38;5;28;01mimport\u001b[39;00m \u001b[38;5;241m*\u001b[39m\n",
      "\u001b[0;31mModuleNotFoundError\u001b[0m: No module named 'test.test_functions'"
     ]
    }
   ],
   "source": [
    "from test.test_functions import *\n",
    "from test.test_model import *\n",
    "from test.test_scenario import *"
   ]
  },
  {
   "cell_type": "code",
   "execution_count": 4,
   "id": "27427d65-e630-482d-9b42-5920a981ccaa",
   "metadata": {},
   "outputs": [],
   "source": [
    "pr_box = pr_model()"
   ]
  },
  {
   "cell_type": "code",
   "execution_count": 5,
   "id": "b6efbe96-e50d-4284-b854-e590575ea406",
   "metadata": {},
   "outputs": [
    {
     "name": "stdout",
     "output_type": "stream",
     "text": [
      "         (0, 0) (0, 1) (1, 0) (1, 1)\n",
      "(x1, x2) 0.5000 0.0000 0.0000 0.5000\n",
      "(x2, x3) 0.5000 0.0000 0.0000 0.5000\n",
      "(x3, x4) 0.5000 0.0000 0.0000 0.5000\n",
      "(x4, x1) 0.0000 0.5000 0.5000 0.0000\n",
      "\n"
     ]
    }
   ],
   "source": [
    "print(pr_box)"
   ]
  },
  {
   "cell_type": "code",
   "execution_count": 6,
   "id": "4850d463-bbd4-41fc-a00b-c85e3071085f",
   "metadata": {},
   "outputs": [],
   "source": [
    "tmp = Scenario([('x1','x2'),('x2','x3'),('x1','x3')], 2)"
   ]
  },
  {
   "cell_type": "code",
   "execution_count": 7,
   "id": "c8270417-760c-4bf6-aea0-d918240e070a",
   "metadata": {},
   "outputs": [
    {
     "data": {
      "text/plain": [
       "['x1', 'x2', 'x3']"
      ]
     },
     "execution_count": 7,
     "metadata": {},
     "output_type": "execute_result"
    }
   ],
   "source": [
    "tmp.observables"
   ]
  },
  {
   "cell_type": "code",
   "execution_count": 8,
   "id": "fe4d8b7e-422f-416d-a92f-e9cd5092aa03",
   "metadata": {},
   "outputs": [
    {
     "data": {
      "text/plain": [
       "array([[1, 1, 0, 0, 0, 0, 0, 0],\n",
       "       [0, 0, 1, 1, 0, 0, 0, 0],\n",
       "       [0, 0, 0, 0, 1, 1, 0, 0],\n",
       "       [0, 0, 0, 0, 0, 0, 1, 1],\n",
       "       [1, 0, 0, 0, 1, 0, 0, 0],\n",
       "       [0, 1, 0, 0, 0, 1, 0, 0],\n",
       "       [0, 0, 1, 0, 0, 0, 1, 0],\n",
       "       [0, 0, 0, 1, 0, 0, 0, 1],\n",
       "       [1, 0, 1, 0, 0, 0, 0, 0],\n",
       "       [0, 1, 0, 1, 0, 0, 0, 0],\n",
       "       [0, 0, 0, 0, 1, 0, 1, 0],\n",
       "       [0, 0, 0, 0, 0, 1, 0, 1]])"
      ]
     },
     "execution_count": 8,
     "metadata": {},
     "output_type": "execute_result"
    }
   ],
   "source": [
    "tmp.incidence_matrix"
   ]
  },
  {
   "cell_type": "code",
   "execution_count": 9,
   "id": "f50a6ae3-6295-4626-97b5-eda567c5d0ad",
   "metadata": {},
   "outputs": [
    {
     "name": "stdout",
     "output_type": "stream",
     "text": [
      "possible global assignments:  [(0, 0, 0), (0, 0, 1), (0, 1, 0), (0, 1, 1), (1, 0, 0), (1, 0, 1), (1, 1, 0), (1, 1, 1)]\n",
      "possible local assignments:  [(0, 0), (0, 1), (1, 0), (1, 1)]\n",
      "example context:  ('x1', 'x3')\n",
      "observable indices:  [0, 2]\n",
      "global contexts:  [(0, 0), (0, 1), (0, 0), (0, 1), (1, 0), (1, 1), (1, 0), (1, 1)]\n",
      "[[1 0 1 0 0 0 0 0]\n",
      " [0 1 0 1 0 0 0 0]\n",
      " [0 0 0 0 1 0 1 0]\n",
      " [0 0 0 0 0 1 0 1]]\n"
     ]
    }
   ],
   "source": [
    "global_assigns = list(itertools.product(range(tmp.num_outcome), repeat=len(tmp.observables)))\n",
    "print(\"possible global assignments: \", global_assigns)\n",
    "local_assigns = list(itertools.product(range(tmp.num_outcome), repeat=len(tmp.contexts[2])))\n",
    "print(\"possible local assignments: \", local_assigns)\n",
    "print(\"example context: \", tmp.contexts[2])\n",
    "ob_idx = [tmp.observables.index(ob) for ob in tmp.contexts[2]]\n",
    "print(\"observable indices: \", ob_idx)\n",
    "g_context = [tuple([g[idx] for idx in ob_idx]) for g in global_assigns]\n",
    "print(\"global contexts: \", g_context)\n",
    "M_context_this = numpy.zeros((len(local_assigns), len(global_assigns)), dtype=int)\n",
    "for i in range(len(local_assigns)):\n",
    "    for j in range(len(g_context)):\n",
    "        M_context_this[i, j] = local_assigns[i] == g_context[j]\n",
    "print(M_context_this)"
   ]
  },
  {
   "cell_type": "code",
   "execution_count": 10,
   "id": "1efda818-2baa-4dfb-9a93-a0dcb31d822b",
   "metadata": {},
   "outputs": [
    {
     "data": {
      "text/plain": [
       "array([[1, 1, 1, 1, 0, 0, 0, 0],\n",
       "       [0, 0, 0, 0, 1, 1, 1, 1],\n",
       "       [1, 1, 0, 0, 1, 1, 0, 0],\n",
       "       [0, 0, 1, 1, 0, 0, 1, 1],\n",
       "       [1, 0, 1, 0, 1, 0, 1, 0],\n",
       "       [0, 1, 0, 1, 0, 1, 0, 1]])"
      ]
     },
     "execution_count": 10,
     "metadata": {},
     "output_type": "execute_result"
    }
   ],
   "source": [
    "dat = Scenario([['x1'],['x2'],['x3']], 2)\n",
    "dat.incidence_matrix"
   ]
  },
  {
   "cell_type": "code",
   "execution_count": 46,
   "id": "5d6896ed-9299-45c0-ae09-37eb8b676193",
   "metadata": {},
   "outputs": [],
   "source": [
    "emp1 = Model(Scenario([['x1'],['x2'],['x3']], 2), [[1/4,3/4],[3/5,2/5],[1/2,1/2]])\n",
    "emp2 = Model(CyclicScenario(['x1','x2','x3'], 2),\n",
    "                      [[1/2,0,0,1/2],\n",
    "                       [1/2,0,0,1/2],\n",
    "                       [0,1/2,1/2,0]])"
   ]
  },
  {
   "cell_type": "code",
   "execution_count": 104,
   "id": "6222e7dc-524f-4a4a-8227-1323551b02b4",
   "metadata": {},
   "outputs": [
    {
     "name": "stdout",
     "output_type": "stream",
     "text": [
      "[0.25 0.75 0.6  0.4  0.5  0.5 ]\n",
      "[0.5        0.         0.         0.5        0.5        0.25\n",
      " 0.         0.25       0.33333333 0.33333333 0.33333333 0.        ]\n"
     ]
    }
   ],
   "source": [
    "print(emp1.vector)\n",
    "print(emp2.vector)"
   ]
  },
  {
   "cell_type": "code",
   "execution_count": 105,
   "id": "17e2d12b-21e4-453b-a120-dd27ff8d8f82",
   "metadata": {},
   "outputs": [
    {
     "name": "stdout",
     "output_type": "stream",
     "text": [
      "0.75\n",
      "0.5\n"
     ]
    }
   ],
   "source": [
    "print(emp1.probability(['x1'],[1]))\n",
    "print(emp2.probability(('x1','x2'),[1,1]))"
   ]
  },
  {
   "cell_type": "code",
   "execution_count": 106,
   "id": "65309da7-405a-4460-bef3-0417a4e78c4f",
   "metadata": {},
   "outputs": [
    {
     "name": "stdout",
     "output_type": "stream",
     "text": [
      "1.0000000000406282\n",
      "0.5\n"
     ]
    }
   ],
   "source": [
    "print(emp1._decomposition('cf'))\n",
    "print(emp2._decomposition('cf'))"
   ]
  },
  {
   "cell_type": "code",
   "execution_count": 107,
   "id": "40b96a8f-26c3-4e5a-9ea1-ccbfb2739610",
   "metadata": {},
   "outputs": [
    {
     "data": {
      "text/plain": [
       "array([[1, 1, 0, 0, 0, 0, 0, 0],\n",
       "       [0, 0, 1, 1, 0, 0, 0, 0],\n",
       "       [0, 0, 0, 0, 1, 1, 0, 0],\n",
       "       [0, 0, 0, 0, 0, 0, 1, 1],\n",
       "       [1, 0, 0, 0, 1, 0, 0, 0],\n",
       "       [0, 1, 0, 0, 0, 1, 0, 0],\n",
       "       [0, 0, 1, 0, 0, 0, 1, 0],\n",
       "       [0, 0, 0, 1, 0, 0, 0, 1],\n",
       "       [1, 0, 1, 0, 0, 0, 0, 0],\n",
       "       [0, 0, 0, 0, 1, 0, 1, 0],\n",
       "       [0, 1, 0, 1, 0, 0, 0, 0],\n",
       "       [0, 0, 0, 0, 0, 1, 0, 1]])"
      ]
     },
     "execution_count": 107,
     "metadata": {},
     "output_type": "execute_result"
    }
   ],
   "source": [
    "emp2.scenario.incidence_matrix"
   ]
  },
  {
   "cell_type": "code",
   "execution_count": 108,
   "id": "0cad2782-7464-4e43-94fc-477fbc7a7bc7",
   "metadata": {},
   "outputs": [
    {
     "data": {
      "text/plain": [
       "array([0.5       , 0.        , 0.        , 0.5       , 0.5       ,\n",
       "       0.25      , 0.        , 0.25      , 0.33333333, 0.33333333,\n",
       "       0.33333333, 0.        ])"
      ]
     },
     "execution_count": 108,
     "metadata": {},
     "output_type": "execute_result"
    }
   ],
   "source": [
    "emp2.vector"
   ]
  },
  {
   "cell_type": "code",
   "execution_count": 31,
   "id": "d98caf7d-30e5-4f11-b75f-571b1881192e",
   "metadata": {},
   "outputs": [],
   "source": [
    "problem = picos.Problem()\n",
    "problem.options.solver = \"mosek\"\n",
    "\n",
    "b = picos.RealVariable(\"b\", 8)"
   ]
  },
  {
   "cell_type": "code",
   "execution_count": 47,
   "id": "cc293f71-98ca-4691-879d-fbb3aa26788f",
   "metadata": {},
   "outputs": [
    {
     "name": "stdout",
     "output_type": "stream",
     "text": [
      "1.0\n"
     ]
    }
   ],
   "source": [
    "M = emp2.scenario.incidence_matrix\n",
    "v = emp2.vector\n",
    "mode = 'sf'\n",
    "num_global_assign = M.shape[1]\n",
    "one = numpy.ones(num_global_assign)\n",
    "\n",
    "problem = picos.Problem()\n",
    "problem.options.solver = \"mosek\"\n",
    "\n",
    "b = picos.RealVariable(\"b\", num_global_assign)\n",
    "\n",
    "problem.set_objective(\"max\", one | b)\n",
    "\n",
    "problem.add_constraint(M * b <= v)\n",
    "\n",
    "if mode == \"cf\":\n",
    "    problem.add_constraint(b >= 0)\n",
    "if mode == \"sf\":\n",
    "    problem.add_constraint(M * b >= 0)\n",
    "\n",
    "solution = problem.solve()\n",
    "weight_N = solution.value\n",
    "print(weight_N)"
   ]
  },
  {
   "cell_type": "code",
   "execution_count": 48,
   "id": "6f9a8fd0-7d13-42da-937a-2a222d3d6419",
   "metadata": {},
   "outputs": [
    {
     "name": "stdout",
     "output_type": "stream",
     "text": [
      "1.0\n",
      "0.0\n"
     ]
    }
   ],
   "source": [
    "print(emp2.contextual_fraction())\n",
    "print(emp2.signalling_fraction())"
   ]
  },
  {
   "cell_type": "code",
   "execution_count": 49,
   "id": "3e0de32d-987d-4a37-8d32-3d2aee6bf95a",
   "metadata": {},
   "outputs": [
    {
     "data": {
      "text/plain": [
       "'CF: 1.000000\\nSF: 0.000000\\nΔ: 0.000000\\nCbD: 2.000000'"
      ]
     },
     "execution_count": 49,
     "metadata": {},
     "output_type": "execute_result"
    }
   ],
   "source": [
    "emp2"
   ]
  },
  {
   "cell_type": "code",
   "execution_count": 50,
   "id": "9114d0f5-f713-47f5-9afe-74dcec0fed66",
   "metadata": {},
   "outputs": [
    {
     "data": {
      "text/plain": [
       "0.0"
      ]
     },
     "execution_count": 50,
     "metadata": {},
     "output_type": "execute_result"
    }
   ],
   "source": [
    "emp2.CbD_direct_influence()"
   ]
  },
  {
   "cell_type": "code",
   "execution_count": 114,
   "id": "b26b65fb-06d2-438d-84fc-57dd6df8b40a",
   "metadata": {},
   "outputs": [
    {
     "data": {
      "text/plain": [
       "array([[0.5       , 0.        , 0.        , 0.5       ],\n",
       "       [0.5       , 0.25      , 0.        , 0.25      ],\n",
       "       [0.33333333, 0.33333333, 0.33333333, 0.        ]])"
      ]
     },
     "execution_count": 114,
     "metadata": {},
     "output_type": "execute_result"
    }
   ],
   "source": [
    "emp2._distributions"
   ]
  },
  {
   "cell_type": "code",
   "execution_count": 51,
   "id": "8d301a26-2989-44a2-984e-82a3f4d3ee70",
   "metadata": {},
   "outputs": [
    {
     "data": {
      "text/plain": [
       "2.0"
      ]
     },
     "execution_count": 51,
     "metadata": {},
     "output_type": "execute_result"
    }
   ],
   "source": [
    "emp2.CbD_measure()"
   ]
  },
  {
   "cell_type": "code",
   "execution_count": 116,
   "id": "59f81dad-f4f3-4362-a1b4-218814b653e5",
   "metadata": {},
   "outputs": [
    {
     "data": {
      "text/plain": [
       "'CF: 0.500000\\nSF: 0.250000\\nΔ: 1.166667\\nCbD: -0.333333'"
      ]
     },
     "execution_count": 116,
     "metadata": {},
     "output_type": "execute_result"
    }
   ],
   "source": [
    "emp2.summary()"
   ]
  },
  {
   "cell_type": "code",
   "execution_count": 117,
   "id": "c9cb2879-cf84-4c19-ac55-5d9c2dfff274",
   "metadata": {},
   "outputs": [
    {
     "name": "stdout",
     "output_type": "stream",
     "text": [
      "         (0, 0) (0, 1) (1, 0) (1, 1)\n",
      "(x1, x2) 0.5000 0.0000 0.0000 0.5000\n",
      "(x2, x3) 0.5000 0.2500 0.0000 0.2500\n",
      "(x3, x1) 0.3333 0.3333 0.3333 0.0000\n",
      "\n"
     ]
    }
   ],
   "source": [
    "print(emp2)"
   ]
  },
  {
   "cell_type": "code",
   "execution_count": 6,
   "id": "aeabe87e-ccdb-4038-9df0-c41db1be9596",
   "metadata": {},
   "outputs": [],
   "source": [
    "ana_scenario = Scenario([('X','X'),('X','Z'),('Z','X'),('Z','Z')], 2)"
   ]
  },
  {
   "cell_type": "code",
   "execution_count": 14,
   "id": "f77ff5e2-caae-4889-9d38-9063a44cc8ed",
   "metadata": {},
   "outputs": [],
   "source": [
    "ana_emp_model = Model(ana_scenario, [[1/2,0,0,1/2],\n",
    "                                     [1/2,1/4,0,1/4],\n",
    "                                     [1/3,1/3,1/3,0],\n",
    "                                     [1/2,1/4,0,1/4]])"
   ]
  },
  {
   "cell_type": "code",
   "execution_count": 19,
   "id": "63e56eb9-1477-4bd3-b424-9cd78eb72537",
   "metadata": {},
   "outputs": [],
   "source": [
    "tmp = CyclicScenario(['a','b','A','B'],2)"
   ]
  },
  {
   "cell_type": "code",
   "execution_count": 25,
   "id": "bd9f1558-534e-44e8-a55b-0bbef185b7b6",
   "metadata": {},
   "outputs": [
    {
     "data": {
      "text/plain": [
       "[('a', 'b'), ('b', 'A'), ('A', 'B'), ('B', 'a')]"
      ]
     },
     "execution_count": 25,
     "metadata": {},
     "output_type": "execute_result"
    }
   ],
   "source": [
    "tmp.contexts"
   ]
  },
  {
   "cell_type": "code",
   "execution_count": 26,
   "id": "d0f73701-336c-4357-9bb3-595c84003d5a",
   "metadata": {},
   "outputs": [
    {
     "data": {
      "text/plain": [
       "[('X', 'X'), ('X', 'Z'), ('Z', 'X'), ('Z', 'Z')]"
      ]
     },
     "execution_count": 26,
     "metadata": {},
     "output_type": "execute_result"
    }
   ],
   "source": [
    "ana_scenario.contexts"
   ]
  },
  {
   "cell_type": "code",
   "execution_count": 40,
   "id": "40e1a203-8b38-40fc-bc29-ed4f315ceed9",
   "metadata": {},
   "outputs": [
    {
     "ename": "AssertionError",
     "evalue": "",
     "output_type": "error",
     "traceback": [
      "\u001b[0;31m---------------------------------------------------------------------------\u001b[0m",
      "\u001b[0;31mAssertionError\u001b[0m                            Traceback (most recent call last)",
      "Cell \u001b[0;32mIn[40], line 1\u001b[0m\n\u001b[0;32m----> 1\u001b[0m \u001b[43mana_emp_model\u001b[49m\u001b[38;5;241;43m.\u001b[39;49m\u001b[43msummary\u001b[49m\u001b[43m(\u001b[49m\u001b[43m)\u001b[49m\n",
      "File \u001b[0;32m~/Desktop/University/qnlp/main/contextuality/model.py:331\u001b[0m, in \u001b[0;36mModel.summary\u001b[0;34m(self)\u001b[0m\n\u001b[1;32m    329\u001b[0m output \u001b[38;5;241m+\u001b[39m\u001b[38;5;241m=\u001b[39m \u001b[38;5;124mf\u001b[39m\u001b[38;5;124m\"\u001b[39m\u001b[38;5;124mCF: \u001b[39m\u001b[38;5;132;01m{\u001b[39;00m\u001b[38;5;28mself\u001b[39m\u001b[38;5;241m.\u001b[39mcontextual_fraction()\u001b[38;5;132;01m:\u001b[39;00m\u001b[38;5;124m.6f\u001b[39m\u001b[38;5;132;01m}\u001b[39;00m\u001b[38;5;130;01m\\n\u001b[39;00m\u001b[38;5;124m\"\u001b[39m\n\u001b[1;32m    330\u001b[0m output \u001b[38;5;241m+\u001b[39m\u001b[38;5;241m=\u001b[39m \u001b[38;5;124mf\u001b[39m\u001b[38;5;124m\"\u001b[39m\u001b[38;5;124mSF: \u001b[39m\u001b[38;5;132;01m{\u001b[39;00m\u001b[38;5;28mself\u001b[39m\u001b[38;5;241m.\u001b[39msignalling_fraction()\u001b[38;5;132;01m:\u001b[39;00m\u001b[38;5;124m.6f\u001b[39m\u001b[38;5;132;01m}\u001b[39;00m\u001b[38;5;130;01m\\n\u001b[39;00m\u001b[38;5;124m\"\u001b[39m\n\u001b[0;32m--> 331\u001b[0m output \u001b[38;5;241m+\u001b[39m\u001b[38;5;241m=\u001b[39m \u001b[38;5;124mf\u001b[39m\u001b[38;5;124m\"\u001b[39m\u001b[38;5;124mΔ: \u001b[39m\u001b[38;5;132;01m{\u001b[39;00m\u001b[38;5;28;43mself\u001b[39;49m\u001b[38;5;241;43m.\u001b[39;49m\u001b[43mCbD_direct_influence\u001b[49m\u001b[43m(\u001b[49m\u001b[43m)\u001b[49m\u001b[38;5;132;01m:\u001b[39;00m\u001b[38;5;124m.6f\u001b[39m\u001b[38;5;132;01m}\u001b[39;00m\u001b[38;5;130;01m\\n\u001b[39;00m\u001b[38;5;124m\"\u001b[39m\n\u001b[1;32m    332\u001b[0m output \u001b[38;5;241m+\u001b[39m\u001b[38;5;241m=\u001b[39m \u001b[38;5;124mf\u001b[39m\u001b[38;5;124m\"\u001b[39m\u001b[38;5;124mCbD: \u001b[39m\u001b[38;5;132;01m{\u001b[39;00m\u001b[38;5;28mself\u001b[39m\u001b[38;5;241m.\u001b[39mCbD_measure()\u001b[38;5;132;01m:\u001b[39;00m\u001b[38;5;124m.6f\u001b[39m\u001b[38;5;132;01m}\u001b[39;00m\u001b[38;5;124m\"\u001b[39m\n\u001b[1;32m    333\u001b[0m \u001b[38;5;28;01mreturn\u001b[39;00m output\n",
      "File \u001b[0;32m~/Desktop/University/qnlp/main/contextuality/model.py:242\u001b[0m, in \u001b[0;36mModel.CbD_direct_influence\u001b[0;34m(self)\u001b[0m\n\u001b[1;32m    240\u001b[0m \u001b[38;5;28;01mdef\u001b[39;00m \u001b[38;5;21mCbD_direct_influence\u001b[39m(\u001b[38;5;28mself\u001b[39m) \u001b[38;5;241m-\u001b[39m\u001b[38;5;241m>\u001b[39m \u001b[38;5;28mfloat\u001b[39m:\n\u001b[1;32m    241\u001b[0m     \u001b[38;5;66;03m# Currently only for cyclic scenario with binary outcome\u001b[39;00m\n\u001b[0;32m--> 242\u001b[0m     \u001b[38;5;28;01massert\u001b[39;00m \u001b[38;5;28misinstance\u001b[39m(\u001b[38;5;28mself\u001b[39m\u001b[38;5;241m.\u001b[39mscenario, CyclicScenario)\n\u001b[1;32m    243\u001b[0m     \u001b[38;5;28;01massert\u001b[39;00m \u001b[38;5;28mself\u001b[39m\u001b[38;5;241m.\u001b[39mscenario\u001b[38;5;241m.\u001b[39mnum_outcome \u001b[38;5;241m==\u001b[39m \u001b[38;5;241m2\u001b[39m\n\u001b[1;32m    245\u001b[0m     dist \u001b[38;5;241m=\u001b[39m \u001b[38;5;28mself\u001b[39m\u001b[38;5;241m.\u001b[39m_distributions\n",
      "\u001b[0;31mAssertionError\u001b[0m: "
     ]
    }
   ],
   "source": [
    "ana_emp_model.summary()"
   ]
  },
  {
   "cell_type": "code",
   "execution_count": null,
   "id": "ad4b0264-b695-4195-a57d-c3d518f5d9f6",
   "metadata": {},
   "outputs": [],
   "source": []
  }
 ],
 "metadata": {
  "kernelspec": {
   "display_name": "qnlp",
   "language": "python",
   "name": "qnlp"
  },
  "language_info": {
   "codemirror_mode": {
    "name": "ipython",
    "version": 3
   },
   "file_extension": ".py",
   "mimetype": "text/x-python",
   "name": "python",
   "nbconvert_exporter": "python",
   "pygments_lexer": "ipython3",
   "version": "3.12.3"
  }
 },
 "nbformat": 4,
 "nbformat_minor": 5
}
