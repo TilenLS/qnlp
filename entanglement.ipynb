{
 "cells": [
  {
   "cell_type": "code",
   "execution_count": 116,
   "id": "6805e741-f763-4099-8613-f1ffc608898f",
   "metadata": {},
   "outputs": [],
   "source": [
    "from math import pi\n",
    "from cmath import exp, cos, sin, isclose\n",
    "from IPython.display import Latex, display\n",
    "import numpy as np"
   ]
  },
  {
   "cell_type": "code",
   "execution_count": 142,
   "id": "64ef6b5e-0f8b-4b8a-9e10-675271f112c7",
   "metadata": {},
   "outputs": [],
   "source": [
    "class qubit:\n",
    "    def __init__(self, theta: int, phi: int):\n",
    "        self.th = theta\n",
    "        self.ph = phi\n",
    "\n",
    "    def amplitudes(self):\n",
    "        alpha = cos(self.th/2)\n",
    "        beta = sin(self.th/2)*exp(self.ph*1j)\n",
    "        return (alpha, beta)\n",
    "\n",
    "    def probs(self):\n",
    "        alpha, beta = self.amplitudes()\n",
    "        pr_alpha = alpha*(alpha.real - (alpha.imag)*1j)\n",
    "        pr_beta = beta*(beta.real - (beta.imag)*1j)\n",
    "        return  ((alpha*(alpha.real - (alpha.imag)*1j)), (beta*(beta.real - (beta.imag)*1j)))\n",
    "    \n",
    "    def state(self):\n",
    "        amps = np.array(self.amplitudes())\n",
    "        return np.multiply(amps, [1]*2)\n",
    "        #display(Latex(f'${alpha}\\\\ \\\\lvert 0 \\\\rangle$ + ${beta}\\\\ \\\\lvert 1 \\\\rangle$'))\n",
    "        "
   ]
  },
  {
   "cell_type": "code",
   "execution_count": 143,
   "id": "f4757aa8-19a8-42ea-aa3f-d7845d564b4d",
   "metadata": {},
   "outputs": [],
   "source": [
    "tmp = qubit(pi, pi)"
   ]
  },
  {
   "cell_type": "code",
   "execution_count": 144,
   "id": "90350d4d-b19c-40cd-bb50-e4c07d081121",
   "metadata": {},
   "outputs": [
    {
     "data": {
      "text/plain": [
       "((6.123233995736766e-17-0j), (-1+1.2246467991473532e-16j))"
      ]
     },
     "execution_count": 144,
     "metadata": {},
     "output_type": "execute_result"
    }
   ],
   "source": [
    "tmp.amplitudes()"
   ]
  },
  {
   "cell_type": "code",
   "execution_count": 145,
   "id": "f3672dac-d3e8-43b0-8c2a-c71550e1964f",
   "metadata": {},
   "outputs": [
    {
     "data": {
      "text/plain": [
       "((3.749399456654644e-33+0j), (1+0j))"
      ]
     },
     "execution_count": 145,
     "metadata": {},
     "output_type": "execute_result"
    }
   ],
   "source": [
    "tmp.probs()"
   ]
  },
  {
   "cell_type": "code",
   "execution_count": 146,
   "id": "c85840ff-1fdb-4af0-b2ef-d41fcd8bdb5f",
   "metadata": {},
   "outputs": [
    {
     "data": {
      "text/plain": [
       "array([ 6.123234e-17+0.0000000e+00j, -1.000000e+00+1.2246468e-16j])"
      ]
     },
     "execution_count": 146,
     "metadata": {},
     "output_type": "execute_result"
    }
   ],
   "source": [
    "tmp.state()"
   ]
  },
  {
   "cell_type": "code",
   "execution_count": null,
   "id": "bd61b18f-845d-49f7-bb07-2edda037b84b",
   "metadata": {},
   "outputs": [],
   "source": []
  }
 ],
 "metadata": {
  "kernelspec": {
   "display_name": "qnlp",
   "language": "python",
   "name": "qnlp"
  },
  "language_info": {
   "codemirror_mode": {
    "name": "ipython",
    "version": 3
   },
   "file_extension": ".py",
   "mimetype": "text/x-python",
   "name": "python",
   "nbconvert_exporter": "python",
   "pygments_lexer": "ipython3",
   "version": "3.12.3"
  }
 },
 "nbformat": 4,
 "nbformat_minor": 5
}
