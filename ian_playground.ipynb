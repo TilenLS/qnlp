{
 "cells": [
  {
   "cell_type": "code",
   "execution_count": 15,
   "metadata": {},
   "outputs": [],
   "source": [
    "from lambeq import BobcatParser\n",
    "import numpy as np\n",
    "from lambeq.ansatz import IQPAnsatz\n",
    "from lambeq import AtomicType, NumpyModel\n",
    "from discopro.anaphora import connect_anaphora\n",
    "parser = BobcatParser()"
   ]
  },
  {
   "cell_type": "code",
   "execution_count": 28,
   "metadata": {},
   "outputs": [],
   "source": [
    "sent1 = 'Alice loves Bob.'\n",
    "sent2 = 'He loves her.'\n",
    "\n",
    "from discopro.grammar import tensor\n",
    "diag1 = parser.sentence2diagram(sent1)\n",
    "diag2 = parser.sentence2diagram(sent2)\n",
    "diag = tensor(diag1, diag2)\n",
    "diag = connect_anaphora(diag, 3, 2)"
   ]
  },
  {
   "cell_type": "code",
   "execution_count": 29,
   "metadata": {},
   "outputs": [],
   "source": [
    "# Define atomic types\n",
    "N = AtomicType.NOUN\n",
    "S = AtomicType.SENTENCE\n",
    "\n",
    "# Convert string diagram to quantum circuit\n",
    "ansatz = IQPAnsatz({N: 1, S: 1}, n_layers=2)"
   ]
  },
  {
   "cell_type": "code",
   "execution_count": 30,
   "metadata": {},
   "outputs": [],
   "source": [
    "def convert(pr_dist):\n",
    "    \"\"\"\n",
    "    Convert a empirical table with the usual\n",
    "    ab, aB, Ab, AB ordering to the cyclic \n",
    "    ab, bA, AB, Ba ordering.\n",
    "    \"\"\"\n",
    "    new_pr_dist = np.zeros_like(pr_dist)\n",
    "    new_pr_dist[0] = pr_dist[0] \n",
    "    new_pr_dist[1] = pr_dist[2][[0,2,1,3]]\n",
    "    new_pr_dist[2] = pr_dist[3]\n",
    "    new_pr_dist[3] = pr_dist[1][[0,2,1,3]]\n",
    "    return new_pr_dist"
   ]
  },
  {
   "cell_type": "code",
   "execution_count": 79,
   "metadata": {},
   "outputs": [
    {
     "name": "stdout",
     "output_type": "stream",
     "text": [
      "CF: -0.0000000001\n",
      "SF: -0.0000000002\n",
      "CbD: -0.5720710297\n",
      "DI: 0.0000000000\n"
     ]
    }
   ],
   "source": [
    "## from lambeq import NumpyModel\n",
    "from lambeq.backend.quantum import Rx, Rz, Ry\n",
    "from sympy.core.symbol import Symbol\n",
    "from contextuality import Model, chsh_scenario\n",
    "base_circ = ansatz(diag)\n",
    "\n",
    "circs = []\n",
    "for i in range(2):\n",
    "    for j in range(2):\n",
    "        circ = base_circ\n",
    "        if i:\n",
    "            #circ = circ.apply_gate(Rx(Symbol('x0')), 0)\n",
    "            #circ = circ.apply_gate(Rz(Symbol('z0')), 0)\n",
    "            circ = circ.apply_gate(Ry(0), 0)\n",
    "        else:\n",
    "            circ = circ.apply_gate(Ry(np.pi/4), 0)\n",
    "        if j:\n",
    "            #circ = circ.apply_gate(Rx(Symbol('x1')), 1)\n",
    "            #circ = circ.apply_gate(Rz(Symbol('z1')), 1)\n",
    "            circ = circ.apply_gate(Ry(np.pi/8), 1)\n",
    "        else:\n",
    "            circ = circ.apply_gate(Ry(3*np.pi/8), 1)\n",
    "        circs.append(circ)\n",
    "\n",
    "model = NumpyModel.from_diagrams(circs)\n",
    "model.initialise_weights()\n",
    "\n",
    "pr_dist = model.get_diagram_output(circs)\n",
    "pr_dist = np.reshape(pr_dist, (4,4))\n",
    "\n",
    "scenario = chsh_scenario()\n",
    "# emp = Model(scenario, pr_dist)\n",
    "emp = Model(scenario, convert(pr_dist))\n",
    "print(f'CF: {emp.contextual_fraction():.10f}')\n",
    "print(f'SF: {emp.signalling_fraction():.10f}')\n",
    "print(f'CbD: {emp.CbD_measure():.10f}')\n",
    "print(f'DI: {emp.CbD_direct_influence():.10f}')"
   ]
  },
  {
   "cell_type": "code",
   "execution_count": null,
   "metadata": {},
   "outputs": [],
   "source": []
  }
 ],
 "metadata": {
  "kernelspec": {
   "display_name": "Python 3 (ipykernel)",
   "language": "python",
   "name": "python3"
  },
  "language_info": {
   "codemirror_mode": {
    "name": "ipython",
    "version": 3
   },
   "file_extension": ".py",
   "mimetype": "text/x-python",
   "name": "python",
   "nbconvert_exporter": "python",
   "pygments_lexer": "ipython3",
   "version": "3.12.4"
  }
 },
 "nbformat": 4,
 "nbformat_minor": 4
}
