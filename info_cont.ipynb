{
 "cells": [
  {
   "cell_type": "code",
   "execution_count": 1,
   "id": "eae7b1f0-320d-4405-90d6-5e8790394a64",
   "metadata": {
    "scrolled": true
   },
   "outputs": [],
   "source": [
    "import gensim.downloader as api\n",
    "wv = api.load('word2vec-google-news-300')"
   ]
  },
  {
   "cell_type": "code",
   "execution_count": 2,
   "id": "919e4768-b3ff-46c1-8163-462e6e36bdc0",
   "metadata": {},
   "outputs": [
    {
     "name": "stdout",
     "output_type": "stream",
     "text": [
      "word #0/3000000 is </s>\n",
      "word #1/3000000 is in\n",
      "word #2/3000000 is for\n",
      "word #3/3000000 is that\n",
      "word #4/3000000 is is\n",
      "word #5/3000000 is on\n",
      "word #6/3000000 is ##\n",
      "word #7/3000000 is The\n",
      "word #8/3000000 is with\n",
      "word #9/3000000 is said\n"
     ]
    }
   ],
   "source": [
    "for index, word in enumerate(wv.index_to_key):\n",
    "    if index == 10:\n",
    "        break\n",
    "    print(f\"word #{index}/{len(wv.index_to_key)} is {word}\")"
   ]
  },
  {
   "cell_type": "code",
   "execution_count": 24,
   "id": "0f5bce6c-0faa-4059-af44-09091b37f4f2",
   "metadata": {},
   "outputs": [],
   "source": [
    "import numpy as np\n",
    "vec_king = np.array(wv['legends'])"
   ]
  },
  {
   "cell_type": "code",
   "execution_count": 25,
   "id": "6485bb48-4f8b-4e30-9918-61156ac4b374",
   "metadata": {},
   "outputs": [
    {
     "name": "stdout",
     "output_type": "stream",
     "text": [
      "'car'\t'minivan'\t0.69\n",
      "'car'\t'bicycle'\t0.54\n",
      "'car'\t'airplane'\t0.42\n",
      "'car'\t'cereal'\t0.14\n",
      "'car'\t'communism'\t0.06\n"
     ]
    }
   ],
   "source": [
    "pairs = [\n",
    "    ('car', 'minivan'),   # a minivan is a kind of car\n",
    "    ('car', 'bicycle'),   # still a wheeled vehicle\n",
    "    ('car', 'airplane'),  # ok, no wheels, but still a vehicle\n",
    "    ('car', 'cereal'),    # ... and so on\n",
    "    ('car', 'communism'),\n",
    "]\n",
    "for w1, w2 in pairs:\n",
    "    print('%r\\t%r\\t%.2f' % (w1, w2, wv.similarity(w1, w2)))"
   ]
  },
  {
   "cell_type": "code",
   "execution_count": 2,
   "id": "142ab1b2-0ab6-4364-b178-34b10715c6bc",
   "metadata": {},
   "outputs": [],
   "source": [
    "import numpy as np\n",
    "import fasttext as ft"
   ]
  },
  {
   "cell_type": "code",
   "execution_count": 3,
   "id": "82f44b59-403c-4697-b377-4dea9dc83ec4",
   "metadata": {},
   "outputs": [],
   "source": [
    "model = ft.load_model('fasttext/cc.en.300.bin')"
   ]
  },
  {
   "cell_type": "code",
   "execution_count": 8,
   "id": "bd9d1abc-edac-49d1-bb1f-0c72a589233b",
   "metadata": {},
   "outputs": [],
   "source": [
    "one = model.get_word_vector('Hello')\n",
    "two = model.get_word_vector('Hi')"
   ]
  },
  {
   "cell_type": "code",
   "execution_count": 9,
   "id": "c55464b6-bb3f-4bee-bae2-693042a492e2",
   "metadata": {},
   "outputs": [],
   "source": [
    "one_two = model.get_sentence_vector('Hello World!')"
   ]
  },
  {
   "cell_type": "code",
   "execution_count": 13,
   "id": "2291cf0e-4021-46f7-824b-3aea47ca7ff5",
   "metadata": {},
   "outputs": [
    {
     "name": "stdout",
     "output_type": "stream",
     "text": [
      "(300,)\n"
     ]
    }
   ],
   "source": [
    "print(one.shape)"
   ]
  },
  {
   "cell_type": "code",
   "execution_count": null,
   "id": "ee89b918-06b8-4847-a3d3-5c4a319bd9e1",
   "metadata": {},
   "outputs": [],
   "source": []
  }
 ],
 "metadata": {
  "kernelspec": {
   "display_name": "qnlp",
   "language": "python",
   "name": "qnlp"
  },
  "language_info": {
   "codemirror_mode": {
    "name": "ipython",
    "version": 3
   },
   "file_extension": ".py",
   "mimetype": "text/x-python",
   "name": "python",
   "nbconvert_exporter": "python",
   "pygments_lexer": "ipython3",
   "version": "3.12.4"
  }
 },
 "nbformat": 4,
 "nbformat_minor": 5
}
