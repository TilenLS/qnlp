{
 "cells": [
  {
   "cell_type": "code",
   "execution_count": 347,
   "id": "02d70262-80c0-4416-9976-aeef1ddd5296",
   "metadata": {},
   "outputs": [],
   "source": [
    "import numpy as np \n",
    "import pandas as pd \n",
    "from tqdm import tqdm \n",
    "from discopro.grammar import tensor\n",
    "from lambeq import BobcatParser, NumpyModel, AtomicType, Rewriter, Dataset, QuantumTrainer, SPSAOptimizer , AtomicType, IQPAnsatz, RemoveCupsRewriter\n",
    "from lambeq.backend.grammar import Spider\n",
    "from lambeq.rewrite import UnifyCodomainRewriter\n",
    "from lambeq.backend.drawing import draw\n",
    "from lambeq.backend.grammar import Ty\n",
    "from tqdm import tqdm\n",
    "import random\n",
    "import datetime\n",
    "from discopro.anaphora import connect_anaphora_on_top\n",
    "from contextuality.model import Model, Scenario, CyclicScenario\n",
    "from lambeq.backend.quantum import Box, qubit, SelfConjugate, Ry, Diagram"
   ]
  },
  {
   "cell_type": "code",
   "execution_count": 348,
   "id": "fc1e8d19-f400-4baf-89fc-7b457aca2c8d",
   "metadata": {},
   "outputs": [],
   "source": [
    "remove_cups = RemoveCupsRewriter()\n",
    "\n",
    "parser = BobcatParser()\n",
    "rewriter = Rewriter(['auxiliary',\n",
    "                     'connector',\n",
    "                     'coordination',\n",
    "                     'determiner',\n",
    "                     'object_rel_pronoun',\n",
    "                     'subject_rel_pronoun',\n",
    "                     'postadverb',\n",
    "                     'preadverb',\n",
    "                     'prepositional_phrase'])\n",
    "\n",
    "N = AtomicType.NOUN\n",
    "S = AtomicType.SENTENCE\n",
    "P = AtomicType.PREPOSITIONAL_PHRASE \n",
    "\n",
    "ansatz = IQPAnsatz({N: 1, S: 1, P:1}, n_layers=1, n_single_qubit_params=3) "
   ]
  },
  {
   "cell_type": "code",
   "execution_count": 349,
   "id": "106e1d89-d3ff-4149-bcfb-08e0acfa311d",
   "metadata": {},
   "outputs": [],
   "source": [
    "def generate_diagram(diagram, pro, ref):\n",
    "\n",
    "    pro_box_idx = next(i for i, box in enumerate(diagram.boxes) if box.name.casefold() == pro.casefold())\n",
    "    ref_box_idx = next(i for i, box in enumerate(diagram.boxes) if box.name.casefold() == ref.casefold())\n",
    "    final_diagram = connect_anaphora_on_top(diagram, pro_box_idx, ref_box_idx)\n",
    "    rewritten_diagram = rewriter(remove_cups(final_diagram)).normal_form()\n",
    "    return rewritten_diagram"
   ]
  },
  {
   "cell_type": "code",
   "execution_count": 350,
   "id": "1bcc9f45-31b4-4249-b743-56a74148690c",
   "metadata": {},
   "outputs": [],
   "source": [
    "def sent2dig(sentence1: str, sentence2: str, pro: str, ref: str):\n",
    "    diagram1 = parser.sentence2diagram(sentence1)\n",
    "    diagram2 = parser.sentence2diagram(sentence2)\n",
    "    diagram = tensor(diagram1,diagram2)\n",
    "    #diagram = diagram >> Spider(S, 2, 1)\n",
    "    diagram = generate_diagram(diagram, pro, ref)\n",
    "    #merger = UnifyCodomainRewriter(Ty('s'))\n",
    "    #diagram = merger(diagram)\n",
    "    return diagram"
   ]
  },
  {
   "cell_type": "code",
   "execution_count": 356,
   "id": "c6fee0f0-5cd0-4e6e-b7aa-7a409d55c46f",
   "metadata": {},
   "outputs": [],
   "source": [
    "def gen_labels(df: pd.DataFrame):\n",
    "    circuits, labels, diagrams = [],[],[]\n",
    "    #selected_cols = [random.choice(['referent', 'wrong_referent']) for i in range(len(df))]\n",
    "    for i, row in tqdm(df.iterrows(), total=len(df)):\n",
    "        #ref = row[selected_cols[i]]\n",
    "        # label = [[0.25, 0.25],[0.25, 0.25]] if selected_cols[i] == 'referent' else [[0.25, 0.25],[0.25, 0.25]]\n",
    "        # sent1, sent2, pro = row[['sentence1', 'sentence2', 'pronoun']]\n",
    "        label = [[0.25, 0.25],[0.25, 0.25]]\n",
    "        sent1, sent2, pro, ref = row[['sentence1', 'sentence2', 'pronoun', 'referent']]\n",
    "\n",
    "        try:\n",
    "            diagram = sent2dig(sent1.strip(), sent2.strip(), pro.strip(), ref.strip())\n",
    "            diagrams.append(diagram)\n",
    "            circ = ansatz(diagram)\n",
    "            circuits.append(circ)\n",
    "            labels.append(label)\n",
    "        except Exception as e:\n",
    "            print(\"Error: \", e)\n",
    "    return circuits, labels, diagrams"
   ]
  },
  {
   "cell_type": "code",
   "execution_count": 357,
   "id": "022d5281-5a86-40ac-94a9-e3c3233982f5",
   "metadata": {},
   "outputs": [],
   "source": [
    "df_train = pd.read_csv('dataset/original_data/train.csv', index_col=0)\n",
    "df_val = pd.read_csv('dataset/original_data/val.csv', index_col=0)\n",
    "df_test = pd.read_csv('dataset/original_data/test.csv', index_col=0)"
   ]
  },
  {
   "cell_type": "code",
   "execution_count": 358,
   "id": "78ec4e10-1684-45d3-8f02-af63ed7f1622",
   "metadata": {},
   "outputs": [
    {
     "name": "stderr",
     "output_type": "stream",
     "text": [
      "100%|███████████████████████████████████████████████████████████████████████████████████████████████████████████████████████| 10/10 [00:03<00:00,  2.57it/s]\n",
      " 20%|████████████████████████                                                                                                | 2/10 [00:00<00:03,  2.58it/s]"
     ]
    },
    {
     "name": "stdout",
     "output_type": "stream",
     "text": [
      "Error:  Diagram 0 (cod=n @ n.r @ n @ n) does not compose with diagram 1 (dom=n @ p.r @ n)\n"
     ]
    },
    {
     "name": "stderr",
     "output_type": "stream",
     "text": [
      "100%|███████████████████████████████████████████████████████████████████████████████████████████████████████████████████████| 10/10 [00:03<00:00,  2.78it/s]\n"
     ]
    },
    {
     "name": "stdout",
     "output_type": "stream",
     "text": [
      "Error:  Diagram 0 (cod=) does not compose with diagram 1 (dom=qubit)\n"
     ]
    },
    {
     "name": "stderr",
     "output_type": "stream",
     "text": [
      " 20%|████████████████████████                                                                                                | 2/10 [00:00<00:02,  2.95it/s]"
     ]
    },
    {
     "name": "stdout",
     "output_type": "stream",
     "text": [
      "Error:  Diagram 0 (cod=) does not compose with diagram 1 (dom=qubit)\n"
     ]
    },
    {
     "name": "stderr",
     "output_type": "stream",
     "text": [
      " 50%|████████████████████████████████████████████████████████████                                                            | 5/10 [00:01<00:01,  3.02it/s]"
     ]
    },
    {
     "name": "stdout",
     "output_type": "stream",
     "text": [
      "Error:  Diagram 0 (cod=) does not compose with diagram 1 (dom=qubit)\n"
     ]
    },
    {
     "name": "stderr",
     "output_type": "stream",
     "text": [
      "100%|███████████████████████████████████████████████████████████████████████████████████████████████████████████████████████| 10/10 [00:03<00:00,  2.96it/s]\n"
     ]
    }
   ],
   "source": [
    "train_circuits, train_labels, train_diagrams = gen_labels(df_train[:10])\n",
    "val_circuits, val_labels, val_diagrams = gen_labels(df_val[:10])\n",
    "test_circuits, test_labels, test_diagrams = gen_labels(df_test[:10])"
   ]
  },
  {
   "cell_type": "code",
   "execution_count": null,
   "id": "86c98d2b-33e9-4b5e-98ea-6a96b2d8cb24",
   "metadata": {
    "scrolled": true
   },
   "outputs": [],
   "source": [
    "from lambeq.training import BinaryCrossEntropyLoss\n",
    "all_circuits = train_circuits + val_circuits + test_circuits\n",
    "model = NumpyModel.from_diagrams(all_circuits, use_jit=True)\n",
    "loss = lambda y_hat, y: -np.sum(y * np.log(y_hat)) / len(y)  # binary cross-entropy loss\n",
    "acc = lambda y_hat, y: np.sum(np.round(y_hat) == np.array(y)) / len(y) / 2  # half due to double-counting\n",
    "eval_metrics = {\"acc\": acc}"
   ]
  },
  {
   "cell_type": "code",
   "execution_count": null,
   "id": "b3072438-8662-426e-9150-4254e1fbcbc6",
   "metadata": {},
   "outputs": [],
   "source": [
    "def main(EPOCHS: int, SEED: int, BATCH_SIZE: int) -> None:\n",
    "\n",
    "    trainer = QuantumTrainer(\n",
    "        model,\n",
    "        loss_function=loss,\n",
    "        epochs=EPOCHS,\n",
    "        optimizer=SPSAOptimizer,\n",
    "        optim_hyperparams={'a': 0.1, 'c': 0.06, 'A': 0.01 * EPOCHS},\n",
    "        evaluate_functions=eval_metrics,\n",
    "        evaluate_on_train=True,\n",
    "        verbose='text',\n",
    "        seed=SEED)\n",
    "\n",
    "    train_dataset = Dataset(train_circuits, train_labels, batch_size=BATCH_SIZE)\n",
    "    val_dataset = Dataset(val_circuits, val_labels, shuffle=False)\n",
    "\n",
    "    now = datetime.datetime.now()\n",
    "    t = now.strftime(\"%Y-%m-%d_%H_%M_%S\")\n",
    "    print(t)\n",
    "    trainer.fit(train_dataset, val_dataset, eval_interval=1, log_interval=1)\n",
    "    test_acc = acc(model(test_circuits), test_labels)\n",
    "    print('Test accuracy:', test_acc)"
   ]
  },
  {
   "cell_type": "code",
   "execution_count": 342,
   "id": "672124f2-e3d4-4c38-96d8-d6f81431f798",
   "metadata": {},
   "outputs": [],
   "source": [
    "SEED = random.choice([0, 10, 50, 77, 100, 111, 150, 169, 200, 234, 250, 300, 350, 400, 450])\n",
    "BATCH_SIZE = 5\n",
    "EPOCHS = 100"
   ]
  },
  {
   "cell_type": "code",
   "execution_count": null,
   "id": "81041eae-ed8d-4c8e-bfe5-884644557ac7",
   "metadata": {},
   "outputs": [],
   "source": [
    "main(EPOCHS, SEED, BATCH_SIZE)"
   ]
  },
  {
   "cell_type": "code",
   "execution_count": 345,
   "id": "00249f2e-75fb-4ba8-9d70-d3a2df0ce387",
   "metadata": {},
   "outputs": [],
   "source": [
    "def gen_emp(diags: [Diagram], model: NumpyModel) -> Model:\n",
    "    scenario = CyclicScenario(['a','b','A','B'],2)\n",
    "    prob_dist = []\n",
    "    for diag in diags:\n",
    "        prob_dist.append(model.get_diagram_output([diag])[0].flatten())\n",
    "    return Model(scenario, prob_dist)"
   ]
  },
  {
   "cell_type": "code",
   "execution_count": null,
   "id": "e80177b7-289e-41f7-8b64-afdc81663572",
   "metadata": {},
   "outputs": [],
   "source": [
    "best_model = NumpyModel.from_checkpoint('runs/Jun18_11-50-11_TLS-MBP.local/best_model.lt')\n",
    "best_model.initialise_weights()"
   ]
  },
  {
   "cell_type": "code",
   "execution_count": null,
   "id": "49a519f0-36bb-424e-bcd8-e56729c62193",
   "metadata": {},
   "outputs": [],
   "source": [
    "res = dict()\n",
    "\n",
    "for i, row in tqdm(df_test.iterrows(), total=len(df_test)):\n",
    "    s1, s2, p, n = row[['sentence1','sentence2','pronoun','referent']]\n",
    "    diag = ansatz(sent2dig(s1, s2, p, n))\n",
    "    \n",
    "    diagXX = diag.apply_gate(Ry(0),0)\n",
    "    diagXX = diagXX.apply_gate(Ry(np.pi/8),1)\n",
    "    \n",
    "    diagXZ = diag.apply_gate(Ry(0),0)\n",
    "    diagXZ = diagXZ.apply_gate(Ry(3*np.pi/8),1)\n",
    "    \n",
    "    diagZX = diag.apply_gate(Ry(np.pi/4),0)\n",
    "    diagZX = diagZX.apply_gate(Ry(np.pi/8),1)\n",
    "    \n",
    "    diagZZ = diag.apply_gate(Ry(np.pi/4),0)\n",
    "    diagZZ = diagZZ.apply_gate(Ry(3*np.pi/8),1)\n",
    "\n",
    "    emp_model = gen_emp([diagXX, diagXZ, diagZX, diagZZ], best_model)\n",
    "\n",
    "    res[s1+s2] = (emp_model.contextual_fraction(),\n",
    "                  emp_model.signalling_fraction(), \n",
    "                  emp_model.CbD_direct_influence(),\n",
    "                  emp_model.CbD_measure())"
   ]
  },
  {
   "cell_type": "code",
   "execution_count": 346,
   "id": "db8bbecc-1002-489b-ab63-00f3f4fbbbd4",
   "metadata": {},
   "outputs": [],
   "source": [
    "import json \n",
    "res = dict()\n",
    "f = open(\"output.json\", \"w\")\n",
    "for item in res:\n",
    "    f.write(json.dump(item))\n",
    "    f.write(\"\\n\")"
   ]
  },
  {
   "cell_type": "code",
   "execution_count": null,
   "id": "662652d0-ee23-4d8c-aa59-da8627d35476",
   "metadata": {},
   "outputs": [],
   "source": []
  }
 ],
 "metadata": {
  "kernelspec": {
   "display_name": "qnlp",
   "language": "python",
   "name": "qnlp"
  },
  "language_info": {
   "codemirror_mode": {
    "name": "ipython",
    "version": 3
   },
   "file_extension": ".py",
   "mimetype": "text/x-python",
   "name": "python",
   "nbconvert_exporter": "python",
   "pygments_lexer": "ipython3",
   "version": "3.12.3"
  }
 },
 "nbformat": 4,
 "nbformat_minor": 5
}
