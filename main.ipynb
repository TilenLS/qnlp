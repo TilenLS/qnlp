{
 "cells": [
  {
   "cell_type": "code",
   "execution_count": 1,
   "id": "02d70262-80c0-4416-9976-aeef1ddd5296",
   "metadata": {},
   "outputs": [],
   "source": [
    "import numpy as np \n",
    "import pandas as pd \n",
    "from tqdm import tqdm \n",
    "from discopro.grammar import tensor\n",
    "from lambeq import BobcatParser, NumpyModel, AtomicType, Rewriter, Dataset, QuantumTrainer, SPSAOptimizer , AtomicType, IQPAnsatz, RemoveCupsRewriter\n",
    "from lambeq.backend.grammar import Spider\n",
    "from lambeq.rewrite import UnifyCodomainRewriter\n",
    "from lambeq.backend.drawing import draw\n",
    "from lambeq.backend.grammar import Ty\n",
    "from tqdm import tqdm\n",
    "import random\n",
    "import datetime\n",
    "from discopro.anaphora import connect_anaphora_on_top\n",
    "from contextuality.model import Model, Scenario, CyclicScenario\n",
    "from lambeq.backend.quantum import Box, qubit, SelfConjugate, Ry, Diagram\n",
    "import sys"
   ]
  },
  {
   "cell_type": "code",
   "execution_count": 2,
   "id": "fc1e8d19-f400-4baf-89fc-7b457aca2c8d",
   "metadata": {},
   "outputs": [],
   "source": [
    "remove_cups = RemoveCupsRewriter()\n",
    "\n",
    "parser = BobcatParser()\n",
    "rewriter = Rewriter(['auxiliary',\n",
    "                     'connector',\n",
    "                     'coordination',\n",
    "                     'determiner',\n",
    "                     'object_rel_pronoun',\n",
    "                     'subject_rel_pronoun',\n",
    "                     'postadverb',\n",
    "                     'preadverb',\n",
    "                     'prepositional_phrase'])\n",
    "\n",
    "N = AtomicType.NOUN\n",
    "S = AtomicType.SENTENCE\n",
    "P = AtomicType.PREPOSITIONAL_PHRASE \n",
    "\n",
    "ansatz = IQPAnsatz({N: 1, S: 1, P:1}, n_layers=1, n_single_qubit_params=3) "
   ]
  },
  {
   "cell_type": "code",
   "execution_count": 3,
   "id": "106e1d89-d3ff-4149-bcfb-08e0acfa311d",
   "metadata": {},
   "outputs": [],
   "source": [
    "def generate_diagram(diagram, pro, ref):\n",
    "\n",
    "    pro_box_idx = next(i for i, box in enumerate(diagram.boxes) if box.name.casefold() == pro.casefold())\n",
    "    ref_box_idx = next(i for i, box in enumerate(diagram.boxes) if box.name.casefold() == ref.casefold())\n",
    "    final_diagram = connect_anaphora_on_top(diagram, pro_box_idx, ref_box_idx)\n",
    "    rewritten_diagram = rewriter(remove_cups(final_diagram)).normal_form()\n",
    "    return rewritten_diagram"
   ]
  },
  {
   "cell_type": "code",
   "execution_count": 4,
   "id": "1bcc9f45-31b4-4249-b743-56a74148690c",
   "metadata": {},
   "outputs": [],
   "source": [
    "def sent2dig(sentence1: str, sentence2: str, pro: str, ref: str):\n",
    "    diagram1 = parser.sentence2diagram(sentence1)\n",
    "    diagram2 = parser.sentence2diagram(sentence2)\n",
    "    diagram = tensor(diagram1,diagram2)\n",
    "    #diagram = diagram >> Spider(S, 2, 1)\n",
    "    diagram = generate_diagram(diagram, pro, ref)\n",
    "    #merger = UnifyCodomainRewriter(Ty('s'))\n",
    "    #diagram = merger(diagram)\n",
    "    return diagram"
   ]
  },
  {
   "cell_type": "code",
   "execution_count": 5,
   "id": "bd1e7324-0efa-42fe-ac22-01e4f780ef6d",
   "metadata": {},
   "outputs": [
    {
     "data": {
      "image/png": "[encoded data removed]",
      "text/plain": [
       "<Figure size 640x480 with 1 Axes>"
      ]
     },
     "metadata": {},
     "output_type": "display_data"
    }
   ],
   "source": [
    "sent2dig('Alice likes Bob', 'He was happy', 'He','Bob').draw()"
   ]
  },
  {
   "cell_type": "code",
   "execution_count": 6,
   "id": "c6fee0f0-5cd0-4e6e-b7aa-7a409d55c46f",
   "metadata": {},
   "outputs": [],
   "source": [
    "def gen_labels(df: pd.DataFrame):\n",
    "    circuits, labels, diagrams = [],[],[]\n",
    "    #selected_cols = [random.choice(['referent', 'wrong_referent']) for i in range(len(df))]\n",
    "    for i, row in tqdm(df.iterrows(), total=len(df), position=0, leave=True):\n",
    "        #ref = row[selected_cols[i]]\n",
    "        # label = [[0.25, 0.25],[0.25, 0.25]] if selected_cols[i] == 'referent' else [[0.25, 0.25],[0.25, 0.25]]\n",
    "        # sent1, sent2, pro = row[['sentence1', 'sentence2', 'pronoun']]\n",
    "        label = [[0.25, 0.25],[0.25, 0.25]]\n",
    "        sent1, sent2, pro, ref = row[['sentence1', 'sentence2', 'pronoun', 'referent']]\n",
    "\n",
    "        try:\n",
    "            diagram = sent2dig(sent1.strip(), sent2.strip(), pro.strip(), ref.strip())\n",
    "            diagrams.append(diagram)\n",
    "            circ = ansatz(diagram)\n",
    "            circuits.append(circ)\n",
    "            labels.append(label)\n",
    "        except Exception as e:\n",
    "            tqdm.write(f\"Error: {e}\".strip(), file=sys.stderr)\n",
    "    return circuits, labels, diagrams"
   ]
  },
  {
   "cell_type": "code",
   "execution_count": 7,
   "id": "022d5281-5a86-40ac-94a9-e3c3233982f5",
   "metadata": {},
   "outputs": [],
   "source": [
    "df_train = pd.read_csv('dataset/original_data/train.csv', index_col=0)\n",
    "df_val = pd.read_csv('dataset/original_data/val.csv', index_col=0)\n",
    "df_test = pd.read_csv('dataset/original_data/test.csv', index_col=0)"
   ]
  },
  {
   "cell_type": "code",
   "execution_count": 8,
   "id": "78ec4e10-1684-45d3-8f02-af63ed7f1622",
   "metadata": {},
   "outputs": [
    {
     "name": "stderr",
     "output_type": "stream",
     "text": [
      "100%|████████████████████████████████████████████████████████████████████████████████████████████████████████████████████| 10/10 [00:04<00:00,  2.49it/s]\n",
      "Error: Diagram 0 (cod=n @ n.r @ n @ n) does not compose with diagram 1 (dom=n @ p.r @ n)                                                                 \n",
      "Error: Diagram 0 (cod=) does not compose with diagram 1 (dom=qubit)                                                                                      \n",
      "100%|████████████████████████████████████████████████████████████████████████████████████████████████████████████████████| 10/10 [00:03<00:00,  2.63it/s]\n",
      "Error: Diagram 0 (cod=) does not compose with diagram 1 (dom=qubit)                                                                                      \n",
      "Error: Diagram 0 (cod=) does not compose with diagram 1 (dom=qubit)                                                                                      \n",
      "100%|████████████████████████████████████████████████████████████████████████████████████████████████████████████████████| 10/10 [00:03<00:00,  2.57it/s]\n"
     ]
    }
   ],
   "source": [
    "train_circuits, train_labels, train_diagrams = gen_labels(df_train[:10])\n",
    "val_circuits, val_labels, val_diagrams = gen_labels(df_val[:10])\n",
    "test_circuits, test_labels, test_diagrams = gen_labels(df_test[:10])"
   ]
  },
  {
   "cell_type": "code",
   "execution_count": 8,
   "id": "86c98d2b-33e9-4b5e-98ea-6a96b2d8cb24",
   "metadata": {
    "scrolled": true
   },
   "outputs": [],
   "source": [
    "from lambeq.training import BinaryCrossEntropyLoss\n",
    "all_circuits = train_circuits + val_circuits + test_circuits\n",
    "model = NumpyModel.from_diagrams(all_circuits, use_jit=True)\n",
    "loss = lambda y_hat, y: -np.sum(y * np.log(y_hat)) / len(y)  # binary cross-entropy loss\n",
    "acc = lambda y_hat, y: np.sum(np.round(y_hat) == np.array(y)) / len(y) / 2  # half due to double-counting\n",
    "eval_metrics = {\"acc\": acc}"
   ]
  },
  {
   "cell_type": "code",
   "execution_count": 22,
   "id": "b3072438-8662-426e-9150-4254e1fbcbc6",
   "metadata": {},
   "outputs": [],
   "source": [
    "def main(EPOCHS: int, SEED: int, BATCH_SIZE: int) -> None:\n",
    "\n",
    "    trainer = QuantumTrainer(\n",
    "        model,\n",
    "        loss_function=loss,\n",
    "        epochs=EPOCHS,\n",
    "        optimizer=SPSAOptimizer,\n",
    "        optim_hyperparams={'a': 0.1, 'c': 0.06, 'A': 0.01 * EPOCHS},\n",
    "        evaluate_functions=eval_metrics,\n",
    "        evaluate_on_train=True,\n",
    "        verbose='text',\n",
    "        seed=SEED)\n",
    "\n",
    "    train_dataset = Dataset(train_circuits, train_labels, batch_size=BATCH_SIZE)\n",
    "    val_dataset = Dataset(val_circuits, val_labels, shuffle=False)\n",
    "\n",
    "    now = datetime.datetime.now()\n",
    "    t = now.strftime(\"%Y-%m-%d_%H_%M_%S\")\n",
    "    print(t)\n",
    "    trainer.fit(train_dataset, val_dataset, eval_interval=30, log_interval=1, eval_mode='step')\n",
    "    test_acc = acc(model(test_circuits), test_labels)\n",
    "    print('Test accuracy:', test_acc)"
   ]
  },
  {
   "cell_type": "code",
   "execution_count": 15,
   "id": "672124f2-e3d4-4c38-96d8-d6f81431f798",
   "metadata": {},
   "outputs": [],
   "source": [
    "SEED = random.choice([0, 10, 50, 77, 100, 111, 150, 169, 200, 234, 250, 300, 350, 400, 450])\n",
    "BATCH_SIZE = 20\n",
    "EPOCHS = 20"
   ]
  },
  {
   "cell_type": "code",
   "execution_count": 16,
   "id": "81041eae-ed8d-4c8e-bfe5-884644557ac7",
   "metadata": {
    "scrolled": true
   },
   "outputs": [
    {
     "name": "stdout",
     "output_type": "stream",
     "text": [
      "2024-07-02_13_07_37\n"
     ]
    },
    {
     "name": "stderr",
     "output_type": "stream",
     "text": [
      "Step 1:   train/loss: 2.3595   valid/loss: 2.8466   train/acc: 0.0000   valid/acc: 0.0000\n",
      "Step 2:   train/loss: 2.4150   valid/loss: 2.0517   train/acc: 0.0000   valid/acc: 0.0000\n",
      "Step 3:   train/loss: 2.0659   valid/loss: 2.0021   train/acc: 0.0000   valid/acc: 0.0000\n",
      "Step 4:   train/loss: 1.9953   valid/loss: 2.0410   train/acc: 0.0000   valid/acc: 0.0000\n",
      "Step 5:   train/loss: 2.1505   valid/loss: 2.0997   train/acc: 0.0000   valid/acc: 0.0000\n",
      "Step 6:   train/loss: 1.8216   valid/loss: 2.1004   train/acc: 0.0000   valid/acc: 0.0000\n",
      "Step 7:   train/loss: 1.7389   valid/loss: 2.1615   train/acc: 0.0000   valid/acc: 0.0000\n",
      "Step 8:   train/loss: 1.9292   valid/loss: 2.1676   train/acc: 0.0000   valid/acc: 0.0000\n",
      "Step 9:   train/loss: 1.9831   valid/loss: 2.2860   train/acc: 0.0000   valid/acc: 0.0000\n",
      "Step 10:  train/loss: 1.9707   valid/loss: 2.2341   train/acc: 0.0000   valid/acc: 0.0000\n",
      "Step 11:  train/loss: 2.0533   valid/loss: 2.2553   train/acc: 0.0000   valid/acc: 0.0000\n",
      "Step 12:  train/loss: 2.0368   valid/loss: 2.1558   train/acc: 0.0000   valid/acc: 0.0000\n",
      "Step 13:  train/loss: 1.9931   valid/loss: 2.0853   train/acc: 0.0000   valid/acc: 0.0000\n",
      "Step 14:  train/loss: 1.9059   valid/loss: 2.1182   train/acc: 0.0000   valid/acc: 0.0000\n",
      "Step 15:  train/loss: 1.9123   valid/loss: 1.9993   train/acc: 0.0000   valid/acc: 0.0000\n",
      "Step 16:  train/loss: 1.8807   valid/loss: 2.0147   train/acc: 0.0000   valid/acc: 0.0000\n"
     ]
    },
    {
     "name": "stdout",
     "output_type": "stream",
     "text": [
      "Test accuracy: 0.0\n"
     ]
    },
    {
     "name": "stderr",
     "output_type": "stream",
     "text": [
      "Step 17:  train/loss: 1.9464   valid/loss: 1.9888   train/acc: 0.0000   valid/acc: 0.0000\n",
      "Step 18:  train/loss: 1.8451   valid/loss: 1.9886   train/acc: 0.0000   valid/acc: 0.0000\n",
      "Step 19:  train/loss: 1.9800   valid/loss: 1.9764   train/acc: 0.0000   valid/acc: 0.0000\n",
      "Step 20:  train/loss: 1.9218   valid/loss: 2.0365   train/acc: 0.0000   valid/acc: 0.0000\n",
      "\n",
      "Training completed!\n"
     ]
    }
   ],
   "source": [
    "main(EPOCHS, SEED, BATCH_SIZE)"
   ]
  },
  {
   "cell_type": "code",
   "execution_count": 96,
   "id": "00249f2e-75fb-4ba8-9d70-d3a2df0ce387",
   "metadata": {},
   "outputs": [],
   "source": [
    "def gen_emp(diags: [Diagram], model: NumpyModel) -> Model:\n",
    "    scenario = CyclicScenario(['a','b','A','B'],2)\n",
    "    prob_dist = []\n",
    "    for diag in diags:\n",
    "        prob_dist.append(model.get_diagram_output([diag])[0].flatten())\n",
    "    return Model(scenario, prob_dist)"
   ]
  },
  {
   "cell_type": "code",
   "execution_count": 97,
   "id": "e80177b7-289e-41f7-8b64-afdc81663572",
   "metadata": {},
   "outputs": [],
   "source": [
    "best_model = NumpyModel.from_checkpoint('runs/Jul01_12-04-23_smew.cs.ucl.ac.uk/best_model.lt')\n",
    "best_model.initialise_weights()"
   ]
  },
  {
   "cell_type": "code",
   "execution_count": 99,
   "id": "49a519f0-36bb-424e-bcd8-e56729c62193",
   "metadata": {
    "scrolled": true
   },
   "outputs": [
    {
     "name": "stderr",
     "output_type": "stream",
     "text": [
      "Error: Diagram 0 (cod=) does not compose with diagram 1 (dom=qubit)                                                                                      \n",
      "Error: Diagram 0 (cod=) does not compose with diagram 1 (dom=qubit)                                                                                      \n",
      "Error: 'Unknown symbol: hardworking__n@n.l_0'                                                                                                            \n",
      "Error: 'Unknown symbol: abandoned__n.r@s@n.l_0'                                                                                                          \n",
      "Error: 'Unknown symbol: hardworking__n@n.l_0'                                                                                                            \n",
      "Error: 'Unknown symbol: brave__n@n.l_0'                                                                                                                  \n",
      "Error: 'Unknown symbol: storm†_n__0'                                                                                                                     \n",
      "Error: 'Unknown symbol: serrated__n@n.l_0'                                                                                                               \n",
      "Error: Diagram 0 (cod=n @ n.r @ n @ n) does not compose with diagram 1 (dom=n @ p.r @ n)                                                                 \n",
      "Error: 'Unknown symbol: voice†_n__0'                                                                                                                     \n",
      "Error: 'Unknown symbol: diligent__n@n.l_0'                                                                                                               \n",
      "Error: 'Unknown symbol: police__n_0'                                                                                                                     \n",
      "Error: 'Unknown symbol: took__n.r@s@n.l_0'                                                                                                               \n",
      "Error: 'Unknown symbol: monstrous__n@n.l_0'                                                                                                              \n",
      "Error: 'Unknown symbol: treacherous__n@n.l_0'                                                                                                            \n",
      "Error: 'Unknown symbol: diligent__n@n.l_0'                                                                                                               \n",
      "Error: 'Unknown symbol: imaginative__n@n.l_0'                                                                                                            \n",
      "Error: 'Unknown symbol: diligent__n@n.l_0'                                                                                                               \n",
      "Error: 'Unknown symbol: notorious__n@n.l_0'                                                                                                              \n",
      "Error: 'Unknown symbol: scratched__n.r@s@n.l_0'                                                                                                          \n",
      "Error: 'Unknown symbol: devastated__n.r@s@n.l_0'                                                                                                         \n",
      "Error: 'Unknown symbol: chirpy__n@n.l_0'                                                                                                                 \n",
      "Error: 'Unknown symbol: imaginative__n@n.l_0'                                                                                                            \n",
      "Error: 'Unknown symbol: serrated__n@n.l_0'                                                                                                               \n",
      "Error: 'Unknown symbol: unwavering__n@n.l_0'                                                                                                             \n",
      "Error: 'Unknown symbol: jumped__n.r@s_0'                                                                                                                 \n",
      "Error: 'Unknown symbol: clever__n@n.l_0'                                                                                                                 \n",
      "Error: 'Unknown symbol: active__n@n.l_0'                                                                                                                 \n",
      "Error: 'Unknown symbol: graceful__n@n.l_0'                                                                                                               \n",
      "Error: 'Unknown symbol: over__s.r@s@n.l_0'                                                                                                               \n",
      "Error: Diagram 0 (cod=) does not compose with diagram 1 (dom=qubit)                                                                                      \n",
      "Error: 'Unknown symbol: durable__n@n.l_0'                                                                                                                \n",
      "Error: 'Unknown symbol: storm__n_0'                                                                                                                      \n",
      "Error: 'Unknown symbol: knife__n@n_0'                                                                                                                    \n",
      "Error: 'Unknown symbol: durable__n@n.l_0'                                                                                                                \n",
      "Error: 'Unknown symbol: took__n.r@s_0'                                                                                                                   \n",
      "Error: 'Unknown symbol: adventurous__n@n.l_0'                                                                                                            \n",
      "Error: 'Unknown symbol: slid†_n.r@s__0'                                                                                                                  \n",
      "Error: 'Unknown symbol: birds__n_0'                                                                                                                      \n",
      "Error: 'Unknown symbol: students__n_0'                                                                                                                   \n",
      "Error: Diagram 0 (cod=) does not compose with diagram 1 (dom=qubit)                                                                                      \n",
      "Error: 'Unknown symbol: battered__n.r@s@n.l_0'                                                                                                           \n",
      "Error: 'Unknown symbol: birds__n_0'                                                                                                                      \n",
      "Error: 'Unknown symbol: targeted__n.r@s@n.l_0'                                                                                                           \n",
      "Error: 'Unknown symbol: staged__n.r@s@n.l_0'                                                                                                             \n",
      "Error: 'Unknown symbol: moved__n.r@s@n.l_0'                                                                                                              \n",
      "Error: Diagram 0 (cod=) does not compose with diagram 1 (dom=qubit)                                                                                      \n",
      "Error: 'Unknown symbol: knife__n@n_0'                                                                                                                    \n",
      "Error: 'Unknown symbol: bee__n@n_0'                                                                                                                      \n",
      "Error: 'Unknown symbol: on__s.r@s@n.l_0'                                                                                                                 \n",
      "Error: 'Unknown symbol: unpredictable__n@n.l_0'                                                                                                          \n",
      "Error: 'Unknown symbol: targeted__n.r@s@n.l_0'                                                                                                           \n",
      "Error: 'Unknown symbol: active__n@n.l_0'                                                                                                                 \n",
      "Error: 'Unknown symbol: sailors__n_0'                                                                                                                    \n",
      "Error: Diagram 0 (cod=) does not compose with diagram 1 (dom=qubit)                                                                                      \n",
      "Error: 'Unknown symbol: executed__n.r@s@n.l_0'                                                                                                           \n",
      "Error: 'Unknown symbol: brave__n@n.l_0'                                                                                                                  \n",
      "Error: 'Unknown symbol: storm__n_0'                                                                                                                      \n",
      "Error: 'Unknown symbol: police__n_0'                                                                                                                     \n",
      "Error: 'Unknown symbol: approached__n.r@s@n.l_0'                                                                                                         \n",
      "Error: 'Unknown symbol: powerful__n@n.l_0'                                                                                                               \n",
      "Error: 'Unknown symbol: turbulent__n@n.l_0'                                                                                                              \n",
      "Error: 'Unknown symbol: familia__n@n.l_0'                                                                                                                \n",
      "Error: 'Unknown symbol: notorious__n@n.l_0'                                                                                                              \n",
      "Error: 'Unknown symbol: birds__n_0'                                                                                                                      \n",
      "Error: 'Unknown symbol: postponed__n.r@s@n.l_0'                                                                                                          \n",
      "Error: 'Unknown symbol: impulsive__n@n.l_0'                                                                                                              \n",
      "Error: 'Unknown symbol: eager__n@n.l_0'                                                                                                                  \n",
      "Error: 'Unknown symbol: innovative__n@n.l_0'                                                                                                             \n",
      "Error: 'Unknown symbol: jumped__n.r@s_0'                                                                                                                 \n",
      "Error: 'Unknown symbol: people__n_0'                                                                                                                     \n",
      "Error: 'Unknown symbol: against__s.r@s@n.l_0'                                                                                                            \n",
      "Error: 'Unknown symbol: knife__n@n_0'                                                                                                                    \n",
      "Error: 'Unknown symbol: ambitious__n@n.l_0'                                                                                                              \n",
      "Error: 'Unknown symbol: curious__n@n.l_0'                                                                                                                \n",
      "Error: 'Unknown symbol: brave__n@n.l_0'                                                                                                                  \n",
      "Error: 'Unknown symbol: hardworking__n@n.l_0'                                                                                                            \n",
      "Error: 'Unknown symbol: sprang__n.r@s_0'                                                                                                                 \n",
      "Error: 'Unknown symbol: police__n_0'                                                                                                                     \n",
      "Error: 'Unknown symbol: plucky__n@n.l_0'                                                                                                                 \n",
      "Error: 'Unknown symbol: flitted__n.r@s_0'                                                                                                                \n",
      "Error: 'Unknown symbol: hard-working__n@n.l_0'                                                                                                           \n",
      "Error: 'Unknown symbol: posed__n.r@s@n.l_0'                                                                                                              \n",
      "Error: 'Unknown symbol: precise__n@n.l_0'                                                                                                                \n",
      "Error: 'Unknown symbol: people__n_0'                                                                                                                     \n",
      "Error: 'Unknown symbol: neutralized__n.r@s@n.l_0'                                                                                                        \n",
      "Error: 'Unknown symbol: agile__n@n.l_0'                                                                                                                  \n",
      "Error: 'Unknown symbol: took__n.r@s@n.l_0'                                                                                                               \n",
      "Error: 'Unknown symbol: battered__n.r@s@n.l_0'                                                                                                           \n",
      "Error: 'Unknown symbol: safe†_n.r@s__0'                                                                                                                  \n",
      "Error: 'Unknown symbol: chirpy__n@n.l_0'                                                                                                                 \n",
      "Error: 'Unknown symbol: chirpy__n@n.l_0'                                                                                                                 \n",
      "100%|██████████████████████████████████████████████████████████████████████████████████████████████████████████████████| 100/100 [00:41<00:00,  2.41it/s]\n"
     ]
    }
   ],
   "source": [
    "res = []\n",
    "x = df_test[:100]\n",
    "for i, row in tqdm(x.iterrows(), total=len(x)):\n",
    "    try:\n",
    "        s1, s2, p, n = row[['sentence1','sentence2','pronoun','referent']]\n",
    "        diag = ansatz(sent2dig(s1, s2, p, n))\n",
    "        \n",
    "        diagXX = diag.apply_gate(Ry(0),0)\n",
    "        diagXX = diagXX.apply_gate(Ry(np.pi/8),1)\n",
    "        \n",
    "        diagXZ = diag.apply_gate(Ry(0),0)\n",
    "        diagXZ = diagXZ.apply_gate(Ry(3*np.pi/8),1)\n",
    "        \n",
    "        diagZX = diag.apply_gate(Ry(np.pi/4),0)\n",
    "        diagZX = diagZX.apply_gate(Ry(np.pi/8),1)\n",
    "        \n",
    "        diagZZ = diag.apply_gate(Ry(np.pi/4),0)\n",
    "        diagZZ = diagZZ.apply_gate(Ry(3*np.pi/8),1)\n",
    "        \n",
    "        emp_model = gen_emp([diag], best_model)\n",
    "        \n",
    "        res.append((s1+\" \"+s2,(emp_model.contextual_fraction(),\n",
    "                      emp_model.signalling_fraction(),\n",
    "                      emp_model.CbD_direct_influence(),\n",
    "                      emp_model.CbD_measure())))\n",
    "    except Exception as e:\n",
    "        tqdm.write(f\"Error: {e}\".strip(), file=sys.stderr)"
   ]
  },
  {
   "cell_type": "code",
   "execution_count": 90,
   "id": "820ab6bf-e1fb-48ee-ae80-dbb93ffea1e9",
   "metadata": {},
   "outputs": [],
   "source": [
    "s1, s2, p, n = df_train.iloc[3][['sentence1','sentence2','pronoun','referent']]"
   ]
  },
  {
   "cell_type": "code",
   "execution_count": 91,
   "id": "e98c21fa-cb77-4f8d-a2f7-9c133c044206",
   "metadata": {},
   "outputs": [],
   "source": [
    "diag = ansatz(sent2dig(s1, s2, p, n))"
   ]
  },
  {
   "cell_type": "code",
   "execution_count": 93,
   "id": "a1462f18-ec6e-46ba-a2dc-f1d30324a769",
   "metadata": {},
   "outputs": [
    {
     "data": {
      "text/plain": [
       "array([[[0.24971497, 0.16155624],\n",
       "        [0.29190325, 0.29682554]]])"
      ]
     },
     "execution_count": 93,
     "metadata": {},
     "output_type": "execute_result"
    }
   ],
   "source": [
    "best_model([diag])"
   ]
  },
  {
   "cell_type": "code",
   "execution_count": null,
   "id": "58182f4f-a65c-41b8-98eb-11a27085d710",
   "metadata": {},
   "outputs": [],
   "source": []
  }
 ],
 "metadata": {
  "kernelspec": {
   "display_name": "qnlp",
   "language": "python",
   "name": "qnlp"
  },
  "language_info": {
   "codemirror_mode": {
    "name": "ipython",
    "version": 3
   },
   "file_extension": ".py",
   "mimetype": "text/x-python",
   "name": "python",
   "nbconvert_exporter": "python",
   "pygments_lexer": "ipython3",
   "version": "3.12.3"
  }
 },
 "nbformat": 4,
 "nbformat_minor": 5
}
