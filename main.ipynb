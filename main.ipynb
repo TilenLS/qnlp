{
 "cells": [
  {
   "cell_type": "code",
   "execution_count": 1,
   "id": "02d70262-80c0-4416-9976-aeef1ddd5296",
   "metadata": {},
   "outputs": [],
   "source": [
    "import datetime, os, sys, pickle\n",
    "import numpy as np \n",
    "import pandas as pd \n",
    "import matplotlib.pyplot as plt\n",
    "from tqdm import tqdm\n",
    "from lambeq import NumpyModel, AtomicType, IQPAnsatz\n",
    "from lambeq.backend.quantum import Ry, Diagram, Bra\n",
    "from util import data_loader\n",
    "import tensornetwork as tn\n",
    "from scipy.linalg import logm, sqrtm\n",
    "from contextuality.model import CyclicScenario, Model\n",
    "import seaborn as sns\n",
    "from scipy.stats import gaussian_kde"
   ]
  },
  {
   "cell_type": "code",
   "execution_count": 2,
   "id": "d3939859-5d39-4bfc-8b46-0e5e97023079",
   "metadata": {},
   "outputs": [],
   "source": [
    "# Not hermitian but normal\n",
    "bases = {'a':Ry(0), 'A':Ry(np.pi/4), 'b':Ry(np.pi/8), 'B':Ry(3*np.pi/8)}\n",
    "contexts = {'ab': np.kron(Ry(0).array, Ry(np.pi/8).array),\n",
    "            'aB': np.kron(Ry(0).array, Ry(3*np.pi/8).array),\n",
    "            'Ab': np.kron(Ry(np.pi/4).array, Ry(np.pi/8).array),\n",
    "            'AB': np.kron(Ry(np.pi/4).array, Ry(3*np.pi/8).array)}"
   ]
  },
  {
   "cell_type": "code",
   "execution_count": 3,
   "id": "9683490e-f323-4bf6-b511-845ea6f7b5f6",
   "metadata": {},
   "outputs": [],
   "source": [
    "class QModel(NumpyModel):\n",
    "    def __init__(self, use_jit: bool = False) -> None:\n",
    "        super().__init__(use_jit)\n",
    "\n",
    "    def get_output_state(self, diagrams):\n",
    "        diagrams = self._fast_subs(diagrams, self.weights)\n",
    "        results = []\n",
    "        for d in diagrams:\n",
    "            assert isinstance(d, Diagram)\n",
    "            result = tn.contractors.auto(*d.to_tn()).tensor\n",
    "            result = np.array(result).flatten()\n",
    "            result = np.sqrt(result/sum(abs(result)))\n",
    "            results.append(result)\n",
    "        return np.array(results)"
   ]
  },
  {
   "cell_type": "code",
   "execution_count": 4,
   "id": "7f1cee9c-cbdd-4081-8ba8-a84d699d649d",
   "metadata": {},
   "outputs": [],
   "source": [
    "model_path = {'disjoint_uncut': 'runs/disjoint_uncut_130E/best_model.lt', \n",
    "              'disjoint_cut': 'runs/disjoint_cut_140E/best_model.lt',\n",
    "              'spider_uncut': 'runs/spider_uncut_200E/best_model.lt', \n",
    "              'spider_cut': 'runs/spider_cut_50E/best_model.lt'}\n",
    "\n",
    "diagram_path = {'disjoint_uncut': 'dataset/diagrams/disjoint_uncut.pkl',\n",
    "                'disjoint_cut': 'dataset/diagrams/disjoint_cut.pkl',\n",
    "                'spider_uncut': 'dataset/diagrams/spider_uncut.pkl',\n",
    "                'spider_cut': 'dataset/diagrams/spider_cut.pkl'}\n",
    "\n",
    "data_path = {'disjoint_uncut': 'dataset/contextuality_data/scenario442_disjoint_uncut.csv',\n",
    "             'disjoint_cut': 'dataset/contextuality_data/scenario442_disjoint_cut.csv',\n",
    "             'spider_uncut': 'dataset/contextuality_data/scenario422_spider_uncut.csv',\n",
    "             'spider_cut': 'dataset/contextuality_data/scenario442_spider_cut.csv'}"
   ]
  },
  {
   "cell_type": "code",
   "execution_count": 294,
   "id": "79de978c-ccd2-4c58-8422-ffa13d48269d",
   "metadata": {},
   "outputs": [],
   "source": [
    "def calc_violation(state: np.array) -> float:\n",
    "    expectations = [(np.conjugate(state) @ (contexts[ops] @ state)) for ops in list(contexts.keys())]\n",
    "    return max([sum(expectations) - 2*exp for exp in expectations])"
   ]
  },
  {
   "cell_type": "code",
   "execution_count": 295,
   "id": "a03a1202-8dc1-4fd8-a9e7-b61b0bef46cf",
   "metadata": {},
   "outputs": [],
   "source": [
    "def density_op(state, tol=1e-12):\n",
    "    dense_mat = np.outer(state, np.conjugate(state))\n",
    "    dense_mat.real[abs(dense_mat.real) < tol] = 0.0\n",
    "    dense_mat.imag[abs(dense_mat.imag) < tol] = 0.0\n",
    "    return dense_mat"
   ]
  },
  {
   "cell_type": "code",
   "execution_count": 296,
   "id": "5f70e615-df53-4079-ad2b-2380cecb6d35",
   "metadata": {},
   "outputs": [],
   "source": [
    "def log_mat(mat): # Matrix logarithm via eigendecomposition\n",
    "    evals, emat = np.linalg.eig(mat) # Get matrix V of eigenvectors of input matrix A\n",
    "    emat_inv = np.linalg.inv(emat) # Get inverse of matrix V\n",
    "    matp = emat @ mat @ emat_inv # Compute A' with a diagonal of eigenvalues tr(A') = evals\n",
    "    tr = matp.diagonal() # Get the trace of the matrix\n",
    "    np.fill_diagonal(matp, np.log2(tr, out=np.zeros_like(tr, dtype=np.complex128), where=(tr!=0))) # Element wise base 2 log of diagonal\n",
    "    # Line above ignores log(0) error by replacing it with 0, which may lead to a wrong answer\n",
    "    return emat_inv @ matp @ emat # Change basis back"
   ]
  },
  {
   "cell_type": "code",
   "execution_count": 297,
   "id": "4bedcb1f-ca48-4c2a-b45d-b31de1811fc6",
   "metadata": {},
   "outputs": [],
   "source": [
    "def partial_trace(dense_mat):\n",
    "    # Compute reduced density matrix for a bipartide quantum system\n",
    "    dims_a = int(2**(np.floor(np.log2(dense_mat.shape[0])/2)))\n",
    "    dims_b = int(2**(np.ceil(np.log2(dense_mat.shape[0])/2)))\n",
    "    id_a = np.identity(dims_a)\n",
    "    id_b = np.identity(dims_b)\n",
    "\n",
    "    rho_a = np.zeros((dims_a, dims_a))\n",
    "    rho_b = np.zeros((dims_b, dims_b))\n",
    "\n",
    "    for base in id_b:\n",
    "        bra = np.kron(id_a, base)\n",
    "        ket = np.kron(id_a, base).T\n",
    "        rho_a = rho_a + (bra @ dense_mat) @ ket\n",
    "    for base in id_a:\n",
    "        bra = np.kron(id_b, base)\n",
    "        ket = np.kron(id_b, base).T\n",
    "        rho_b = rho_b + (bra @ dense_mat) @ ket        \n",
    "    return rho_a, rho_b"
   ]
  },
  {
   "cell_type": "code",
   "execution_count": 298,
   "id": "a481119f-48b8-4dc4-95ac-f88e38ad5213",
   "metadata": {},
   "outputs": [],
   "source": [
    "def calc_vne(dense_mat, direct=True):\n",
    "    if direct:\n",
    "        ent =  -np.trace(dense_mat @ log_mat(dense_mat))\n",
    "    else:\n",
    "        evals = np.linalg.eigvals(dense_mat)\n",
    "        evals = evals[np.abs(evals) > 1e-12]\n",
    "        ent = -np.sum(evals * np.log2(evals))\n",
    "    ent = ent.round(12)\n",
    "    return ent"
   ]
  },
  {
   "cell_type": "code",
   "execution_count": 299,
   "id": "71c7a885-d453-4fac-b2ac-2923b8c58a3c",
   "metadata": {},
   "outputs": [],
   "source": [
    "def qrel_ent(mat1, mat2):\n",
    "    return np.trace(mat1 @ (log_mat(mat1) - log_mat(mat2)))"
   ]
  },
  {
   "cell_type": "code",
   "execution_count": 23,
   "id": "683618a1-ff77-4334-bbda-ee22f63e8496",
   "metadata": {},
   "outputs": [],
   "source": [
    "data_sc = data_loader(scenario=CyclicScenario(['a','b','A','B'],2), model_path=model_path['spider_cut'])\n",
    "data_sc.get_data(data_path['spider_cut'])\n",
    "data_sc.get_diagrams(diagram_path['spider_cut'])\n",
    "\n",
    "data_su = data_loader(scenario=CyclicScenario(['a','b','A','B'],2), model_path=model_path['spider_uncut'])\n",
    "data_su.get_data(data_path['spider_uncut'])\n",
    "data_su.get_diagrams(diagram_path['spider_uncut'])"
   ]
  },
  {
   "cell_type": "code",
   "execution_count": 24,
   "id": "ea8e546e-6ef3-4885-9006-89ecec9c3885",
   "metadata": {},
   "outputs": [],
   "source": [
    "data_dc = data_loader(scenario=CyclicScenario(['a','b','A','B'],2), model_path=model_path['disjoint_cut'])\n",
    "data_dc.get_data(data_path['disjoint_cut'])\n",
    "data_dc.get_diagrams(diagram_path['disjoint_cut'])\n",
    "\n",
    "data_du = data_loader(scenario=CyclicScenario(['a','b','A','B'],2), model_path=model_path['disjoint_uncut'])\n",
    "data_du.get_data(data_path['disjoint_uncut'])\n",
    "data_du.get_diagrams(diagram_path['disjoint_uncut'])"
   ]
  },
  {
   "cell_type": "code",
   "execution_count": 254,
   "id": "3853135b-4cf4-4d01-8074-7fe9f4b39cd9",
   "metadata": {
    "scrolled": true
   },
   "outputs": [
    {
     "name": "stderr",
     "output_type": "stream",
     "text": [
      "Error: 'Unknown symbol: storm__n@n.l_0'                                                                                                                               \n",
      "Error: 'Unknown symbol: the__n.r@n@n.l_0'                                                                                                                             \n",
      "Error: 'Unknown symbol: storm__n@n.l_0'                                                                                                                               \n",
      "Error: 'Unknown symbol: storm__n@n.l_0'                                                                                                                               \n",
      "Error: 'Unknown symbol: storm__n@n.l_0'                                                                                                                               \n",
      "100%|█████████████████████████████████████████████████████████████████████████████████████████████████████████████████████████████| 3273/3273 [05:33<00:00,  9.81it/s]\n"
     ]
    }
   ],
   "source": [
    "eoe = []\n",
    "qre = []\n",
    "qm = QModel.from_checkpoint(model_path['spider_cut'])\n",
    "for diagram in tqdm(data.diagrams):\n",
    "    try:\n",
    "        state = qm.get_output_state([diagram])[0]\n",
    "        dense_mat = density_op(state)\n",
    "        rho_a, rho_b = partial_trace(dense_mat)\n",
    "        eoe.append(calc_vne(rho_a, direct=False))\n",
    "\n",
    "        diag1 = diagram.apply_gate(Bra(0),0)\n",
    "        diag2 = diagram.apply_gate(Bra(0),1)\n",
    "        state1 = qm.get_output_state([diag1])[0]\n",
    "        state2 = qm.get_output_state([diag2])[0]\n",
    "        mat1 = density_op(state1)\n",
    "        mat2 = density_op(state2)\n",
    "        qre.append(qrel_ent(mat1, mat2).round(6))\n",
    "\n",
    "    except Exception as err:\n",
    "        tqdm.write(f\"Error: {err}\".strip(), file=sys.stderr)"
   ]
  },
  {
   "cell_type": "code",
   "execution_count": 343,
   "id": "8c20d080-d395-4a0f-8d8f-6ce8fe8c583e",
   "metadata": {},
   "outputs": [],
   "source": [
    "def plot_cnxt(x, y, z, title: str, xl: str, yl: str, save: bool=True) -> None:\n",
    "    cmap = plt.get_cmap('viridis_r')\n",
    "    cmap.set_under('red')\n",
    "    xy = np.vstack([x,y])\n",
    "    c = gaussian_kde(xy)(xy)\n",
    "    scat = plt.scatter(x=x, y=y, c=c, cmap=cmap)\n",
    "    plt.axvline(x=1/6, color='r', linestyle='-')\n",
    "    plt.axhline(y=1, color='r', linestyle='-')\n",
    "    #plt.text(x=1/6+0.05,y=5,s='Sheaf Contextual')\n",
    "    #plt.text(x=0.7,y=1.5,s='CbD Contextual')\n",
    "    plt.xlabel(xl)\n",
    "    plt.ylabel(yl)\n",
    "    plt.colorbar(label='Signalling Fraction')\n",
    "    plt.title(title)\n",
    "    scat.set_alpha(0.5)\n",
    "    #scat.cmap.set_over('red')\n",
    "    if save:\n",
    "        plt.savefig('figures/' + title + '_' + datetime.datetime.now().strftime(\"%Y-%m-%d_%H_%M_%S\"))\n",
    "    plt.show()"
   ]
  },
  {
   "cell_type": "code",
   "execution_count": 5,
   "id": "ef822af9-7f24-4d55-a144-fdae38638167",
   "metadata": {},
   "outputs": [],
   "source": [
    "wrong_ref_spider = data_loader(scenario=CyclicScenario(['a','b','A','B'],2))\n",
    "wrong_ref_disjoint = data_loader(scenario=CyclicScenario(['a','b','A','B'],2))\n",
    "right_ref_spider = data_loader(scenario=CyclicScenario(['a','b','A','B'],2))\n",
    "right_ref_disjoint = data_loader(scenario=CyclicScenario(['a','b','A','B'],2))"
   ]
  },
  {
   "cell_type": "code",
   "execution_count": 6,
   "id": "aa07d69a-b043-4583-a3c3-41a9fad896de",
   "metadata": {
    "scrolled": true
   },
   "outputs": [],
   "source": [
    "wrong_ref_disjoint.get_diagrams('dataset/diags_wrong_ref.pkl')"
   ]
  },
  {
   "cell_type": "code",
   "execution_count": null,
   "id": "d2042854-d276-4d6e-a6f1-ad7588b37ac0",
   "metadata": {},
   "outputs": [
    {
     "name": "stderr",
     "output_type": "stream",
     "text": [
      "Error: 'Unknown symbol: storm__n@n.l_0'                                                                                                                               \n",
      "Error: 'Unknown symbol: the__n.r@n@n.l_0'                                                                                                                             \n",
      " 25%|███████████████████████████████▏                                                                                              | 765/3086 [01:01<02:55, 13.21it/s]"
     ]
    }
   ],
   "source": [
    "wrong_ref.update_model('runs/spider_uncut_200E/best_model.lt')\n",
    "wrong_ref.gen_data()"
   ]
  },
  {
   "cell_type": "code",
   "execution_count": null,
   "id": "ce40a86a-b095-4348-9c50-9c9d8709914e",
   "metadata": {},
   "outputs": [],
   "source": [
    "wrong_ref.update_model('runs/disjoint_uncut_130E/best_model.lt')\n",
    "wrong_ref.gen_data()"
   ]
  },
  {
   "cell_type": "code",
   "execution_count": 8,
   "id": "670a455c-0c6e-4442-b587-081d89ec605d",
   "metadata": {},
   "outputs": [],
   "source": [
    "state = np.array([np.sqrt(1/2), 0, 0, np.sqrt(1/2)])"
   ]
  },
  {
   "cell_type": "code",
   "execution_count": 9,
   "id": "7f4d30bd-92dd-475d-9f03-cde5d37efa40",
   "metadata": {},
   "outputs": [],
   "source": [
    "pr_dist = np.array([np.square(contexts['ab']@state),\n",
    "                    np.square(contexts['aB']@state),\n",
    "                    np.square(contexts['Ab']@state),\n",
    "                    np.square(contexts['AB']@state)])"
   ]
  }
 ],
 "metadata": {
  "kernelspec": {
   "display_name": "qnlp",
   "language": "python",
   "name": "qnlp"
  },
  "language_info": {
   "codemirror_mode": {
    "name": "ipython",
    "version": 3
   },
   "file_extension": ".py",
   "mimetype": "text/x-python",
   "name": "python",
   "nbconvert_exporter": "python",
   "pygments_lexer": "ipython3",
   "version": "3.12.4"
  }
 },
 "nbformat": 4,
 "nbformat_minor": 5
}
