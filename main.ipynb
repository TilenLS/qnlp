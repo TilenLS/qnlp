{
 "cells": [
  {
   "cell_type": "code",
   "execution_count": 1,
   "id": "02d70262-80c0-4416-9976-aeef1ddd5296",
   "metadata": {},
   "outputs": [],
   "source": [
    "import numpy as np \n",
    "import pandas as pd \n",
    "from tqdm import tqdm \n",
    "from discopro.grammar import tensor\n",
    "from lambeq import BobcatParser, NumpyModel, AtomicType, Rewriter, Dataset, QuantumTrainer, SPSAOptimizer , AtomicType, IQPAnsatz, RemoveCupsRewriter\n",
    "from lambeq.backend.grammar import Spider\n",
    "from lambeq.rewrite import UnifyCodomainRewriter\n",
    "from lambeq.backend.drawing import draw\n",
    "from lambeq.backend.grammar import Ty\n",
    "from tqdm import tqdm\n",
    "import random\n",
    "import datetime\n",
    "from discopro.anaphora import connect_anaphora_on_top\n",
    "from contextuality.model import Model, Scenario, CyclicScenario\n",
    "from lambeq.backend.quantum import Box, qubit, SelfConjugate, Ry, Diagram\n",
    "import sys"
   ]
  },
  {
   "cell_type": "code",
   "execution_count": 2,
   "id": "fc1e8d19-f400-4baf-89fc-7b457aca2c8d",
   "metadata": {},
   "outputs": [],
   "source": [
    "remove_cups = RemoveCupsRewriter()\n",
    "\n",
    "parser = BobcatParser()\n",
    "rewriter = Rewriter(['auxiliary',\n",
    "                     'connector',\n",
    "                     'coordination',\n",
    "                     'determiner',\n",
    "                     'object_rel_pronoun',\n",
    "                     'subject_rel_pronoun',\n",
    "                     'postadverb',\n",
    "                     'preadverb',\n",
    "                     'prepositional_phrase'])\n",
    "\n",
    "N = AtomicType.NOUN\n",
    "S = AtomicType.SENTENCE\n",
    "P = AtomicType.PREPOSITIONAL_PHRASE \n",
    "\n",
    "ansatz = IQPAnsatz({N: 1, S: 1, P:1}, n_layers=1, n_single_qubit_params=3) "
   ]
  },
  {
   "cell_type": "code",
   "execution_count": 3,
   "id": "106e1d89-d3ff-4149-bcfb-08e0acfa311d",
   "metadata": {},
   "outputs": [],
   "source": [
    "def generate_diagram(diagram, pro, ref):\n",
    "\n",
    "    pro_box_idx = next(i for i, box in enumerate(diagram.boxes) if box.name.casefold() == pro.casefold())\n",
    "    ref_box_idx = next(i for i, box in enumerate(diagram.boxes) if box.name.casefold() == ref.casefold())\n",
    "    final_diagram = connect_anaphora_on_top(diagram, pro_box_idx, ref_box_idx)\n",
    "    rewritten_diagram = rewriter(remove_cups(final_diagram)).normal_form()\n",
    "    return rewritten_diagram"
   ]
  },
  {
   "cell_type": "code",
   "execution_count": 4,
   "id": "1bcc9f45-31b4-4249-b743-56a74148690c",
   "metadata": {},
   "outputs": [],
   "source": [
    "def sent2dig(sentence1: str, sentence2: str, pro: str, ref: str):\n",
    "    diagram1 = parser.sentence2diagram(sentence1)\n",
    "    diagram2 = parser.sentence2diagram(sentence2)\n",
    "    diagram = tensor(diagram1,diagram2)\n",
    "    #diagram = diagram >> Spider(S, 2, 1)\n",
    "    diagram = generate_diagram(diagram, pro, ref)\n",
    "    #merger = UnifyCodomainRewriter(Ty('s'))\n",
    "    #diagram = merger(diagram)\n",
    "    return diagram"
   ]
  },
  {
   "cell_type": "code",
   "execution_count": 5,
   "id": "c6fee0f0-5cd0-4e6e-b7aa-7a409d55c46f",
   "metadata": {},
   "outputs": [],
   "source": [
    "def gen_labels(df: pd.DataFrame):\n",
    "    circuits, labels, diagrams = [],[],[]\n",
    "    #selected_cols = [random.choice(['referent', 'wrong_referent']) for i in range(len(df))]\n",
    "    for i, row in tqdm(df.iterrows(), total=len(df), position=0, leave=True):\n",
    "        #ref = row[selected_cols[i]]\n",
    "        # label = [[0.25, 0.25],[0.25, 0.25]] if selected_cols[i] == 'referent' else [[0.25, 0.25],[0.25, 0.25]]\n",
    "        # sent1, sent2, pro = row[['sentence1', 'sentence2', 'pronoun']]\n",
    "        label = [[0.25, 0.25],[0.25, 0.25]]\n",
    "        sent1, sent2, pro, ref = row[['sentence1', 'sentence2', 'pronoun', 'referent']]\n",
    "\n",
    "        try:\n",
    "            diagram = sent2dig(sent1.strip(), sent2.strip(), pro.strip(), ref.strip())\n",
    "            diagrams.append(diagram)\n",
    "            circ = ansatz(diagram)\n",
    "            circuits.append(circ)\n",
    "            labels.append(label)\n",
    "        except Exception as e:\n",
    "            tqdm.write(f\"Error: {e}\".strip(), file=sys.stderr)\n",
    "    return circuits, labels, diagrams"
   ]
  },
  {
   "cell_type": "code",
   "execution_count": 6,
   "id": "022d5281-5a86-40ac-94a9-e3c3233982f5",
   "metadata": {},
   "outputs": [],
   "source": [
    "df_train = pd.read_csv('dataset/original_data/train.csv', index_col=0)\n",
    "df_val = pd.read_csv('dataset/original_data/val.csv', index_col=0)\n",
    "df_test = pd.read_csv('dataset/original_data/test.csv', index_col=0)"
   ]
  },
  {
   "cell_type": "code",
   "execution_count": 59,
   "id": "78ec4e10-1684-45d3-8f02-af63ed7f1622",
   "metadata": {},
   "outputs": [
    {
     "name": "stderr",
     "output_type": "stream",
     "text": [
      "100%|████████████████████████████████████████████████████████████████████████████████████████████████████████████████████| 10/10 [00:04<00:00,  2.45it/s]\n",
      "Error: Diagram 0 (cod=n @ n.r @ n @ n) does not compose with diagram 1 (dom=n @ p.r @ n)                                                                 \n",
      "Error: Diagram 0 (cod=) does not compose with diagram 1 (dom=qubit)                                                                                      \n",
      "100%|████████████████████████████████████████████████████████████████████████████████████████████████████████████████████| 10/10 [00:03<00:00,  2.72it/s]\n",
      "Error: Diagram 0 (cod=) does not compose with diagram 1 (dom=qubit)                                                                                      \n",
      "Error: Diagram 0 (cod=) does not compose with diagram 1 (dom=qubit)                                                                                      \n",
      "100%|████████████████████████████████████████████████████████████████████████████████████████████████████████████████████| 10/10 [00:03<00:00,  2.57it/s]\n"
     ]
    }
   ],
   "source": [
    "train_circuits, train_labels, train_diagrams = gen_labels(df_train[:10])\n",
    "val_circuits, val_labels, val_diagrams = gen_labels(df_val[:10])\n",
    "test_circuits, test_labels, test_diagrams = gen_labels(df_test[:10])"
   ]
  },
  {
   "cell_type": "code",
   "execution_count": 129,
   "id": "86c98d2b-33e9-4b5e-98ea-6a96b2d8cb24",
   "metadata": {
    "scrolled": true
   },
   "outputs": [],
   "source": [
    "from lambeq.training import BinaryCrossEntropyLoss\n",
    "all_circuits = train_circuits + val_circuits + test_circuits\n",
    "model = NumpyModel.from_diagrams(all_circuits, use_jit=True)\n",
    "loss = BinaryCrossEntropyLoss(use_jax=True)\n",
    "acc = lambda y_hat, y: np.sqrt(np.mean((y_hat-y)**2)/2)\n",
    "eval_metrics = {\"err\": acc}"
   ]
  },
  {
   "cell_type": "code",
   "execution_count": 126,
   "id": "b3072438-8662-426e-9150-4254e1fbcbc6",
   "metadata": {},
   "outputs": [],
   "source": [
    "def main(EPOCHS: int, SEED: int, BATCH_SIZE: int) -> None:\n",
    "\n",
    "    trainer = QuantumTrainer(\n",
    "        model,\n",
    "        loss_function=loss,\n",
    "        epochs=EPOCHS,\n",
    "        optimizer=SPSAOptimizer,\n",
    "        optim_hyperparams={'a': 0.1, 'c': 0.06, 'A': 0.01 * EPOCHS},\n",
    "        evaluate_functions=eval_metrics,\n",
    "        evaluate_on_train=True,\n",
    "        verbose='text',\n",
    "        seed=SEED)\n",
    "\n",
    "    train_dataset = Dataset(train_circuits, train_labels, batch_size=BATCH_SIZE)\n",
    "    val_dataset = Dataset(val_circuits, val_labels, shuffle=False)\n",
    "\n",
    "    now = datetime.datetime.now()\n",
    "    t = now.strftime(\"%Y-%m-%d_%H_%M_%S\")\n",
    "    print(t)\n",
    "    trainer.fit(train_dataset, val_dataset, eval_interval=1, log_interval=1, eval_mode='step')\n",
    "    test_acc = acc(model(test_circuits), test_labels)\n",
    "    print('Test accuracy:', test_acc)"
   ]
  },
  {
   "cell_type": "code",
   "execution_count": 127,
   "id": "672124f2-e3d4-4c38-96d8-d6f81431f798",
   "metadata": {},
   "outputs": [],
   "source": [
    "SEED = random.choice([0, 10, 50, 77, 100, 111, 150, 169, 200, 234, 250, 300, 350, 400, 450])\n",
    "BATCH_SIZE = 20\n",
    "EPOCHS = 100"
   ]
  },
  {
   "cell_type": "code",
   "execution_count": 128,
   "id": "81041eae-ed8d-4c8e-bfe5-884644557ac7",
   "metadata": {
    "scrolled": true
   },
   "outputs": [
    {
     "name": "stdout",
     "output_type": "stream",
     "text": [
      "2024-07-02_15_51_18\n"
     ]
    },
    {
     "name": "stderr",
     "output_type": "stream",
     "text": [
      "Step 1:    train/loss: 1.0953   valid/loss: 0.8753   train/err: 0.1547   valid/err: 0.1691\n",
      "Step 2:    train/loss: 1.1385   valid/loss: 0.8726   train/err: 0.1631   valid/err: 0.1663\n",
      "Step 3:    train/loss: 1.1453   valid/loss: 0.8760   train/err: 0.1428   valid/err: 0.1297\n",
      "Step 4:    train/loss: 0.9840   valid/loss: 0.8703   train/err: 0.1494   valid/err: 0.1336\n",
      "Step 5:    train/loss: 0.9367   valid/loss: 0.9013   train/err: 0.1567   valid/err: 0.1471\n",
      "Step 6:    train/loss: 0.8575   valid/loss: 0.9530   train/err: 0.1746   valid/err: 0.1565\n",
      "Step 7:    train/loss: 0.8465   valid/loss: 0.9505   train/err: 0.1487   valid/err: 0.1582\n",
      "Step 8:    train/loss: 0.9257   valid/loss: 0.9419   train/err: 0.1588   valid/err: 0.1272\n",
      "Step 9:    train/loss: 0.9050   valid/loss: 1.1418   train/err: 0.1556   valid/err: 0.1526\n",
      "Step 10:   train/loss: 0.8718   valid/loss: 1.1471   train/err: 0.1486   valid/err: 0.1527\n",
      "Step 11:   train/loss: 0.8723   valid/loss: 1.0463   train/err: 0.1492   valid/err: 0.1563\n",
      "Step 12:   train/loss: 0.9121   valid/loss: 1.0600   train/err: 0.1577   valid/err: 0.1525\n",
      "Step 13:   train/loss: 0.8583   valid/loss: 1.0516   train/err: 0.1635   valid/err: 0.1501\n",
      "Step 14:   train/loss: 0.9077   valid/loss: 1.0090   train/err: 0.1486   valid/err: 0.1595\n",
      "Step 15:   train/loss: 0.8515   valid/loss: 0.9902   train/err: 0.1623   valid/err: 0.1584\n",
      "Step 16:   train/loss: 0.8728   valid/loss: 0.9268   train/err: 0.1815   valid/err: 0.1396\n",
      "Step 17:   train/loss: 0.9232   valid/loss: 0.9289   train/err: 0.1544   valid/err: 0.1527\n",
      "Step 18:   train/loss: 0.8316   valid/loss: 0.9177   train/err: 0.1362   valid/err: 0.1443\n",
      "Step 19:   train/loss: 0.8504   valid/loss: 0.9360   train/err: 0.1267   valid/err: 0.1539\n",
      "Step 20:   train/loss: 0.8311   valid/loss: 0.9305   train/err: 0.1415   valid/err: 0.1533\n",
      "Step 21:   train/loss: 0.8237   valid/loss: 0.9319   train/err: 0.1435   valid/err: 0.1537\n",
      "Step 22:   train/loss: 0.8172   valid/loss: 0.9321   train/err: 0.1309   valid/err: 0.1538\n",
      "Step 23:   train/loss: 0.7937   valid/loss: 0.9345   train/err: 0.1498   valid/err: 0.1541\n",
      "Step 24:   train/loss: 0.8122   valid/loss: 0.9336   train/err: 0.1486   valid/err: 0.1540\n",
      "Step 25:   train/loss: 0.8166   valid/loss: 0.9097   train/err: 0.1143   valid/err: 0.1476\n",
      "Step 26:   train/loss: 0.8885   valid/loss: 0.9106   train/err: 0.1316   valid/err: 0.1404\n",
      "Step 27:   train/loss: 0.7847   valid/loss: 0.9029   train/err: 0.1407   valid/err: 0.1429\n",
      "Step 28:   train/loss: 0.8439   valid/loss: 0.9113   train/err: 0.1549   valid/err: 0.1449\n",
      "Step 29:   train/loss: 0.8076   valid/loss: 0.9154   train/err: 0.1579   valid/err: 0.1438\n",
      "Step 30:   train/loss: 0.8855   valid/loss: 0.9436   train/err: 0.1420   valid/err: 0.1439\n",
      "Step 31:   train/loss: 1.0539   valid/loss: 0.9020   train/err: 0.1542   valid/err: 0.1441\n",
      "Step 32:   train/loss: 0.8447   valid/loss: 0.9188   train/err: 0.1439   valid/err: 0.1530\n",
      "Step 33:   train/loss: 0.8309   valid/loss: 0.9201   train/err: 0.1443   valid/err: 0.1532\n",
      "Step 34:   train/loss: 0.8288   valid/loss: 0.9011   train/err: 0.1373   valid/err: 0.1477\n",
      "Step 35:   train/loss: 0.8434   valid/loss: 0.9033   train/err: 0.1512   valid/err: 0.1480\n",
      "Step 36:   train/loss: 0.7881   valid/loss: 0.9018   train/err: 0.1480   valid/err: 0.1467\n",
      "Step 37:   train/loss: 0.8012   valid/loss: 0.9013   train/err: 0.1501   valid/err: 0.1478\n",
      "Step 38:   train/loss: 0.8997   valid/loss: 0.9073   train/err: 0.1559   valid/err: 0.1502\n",
      "Step 39:   train/loss: 0.7843   valid/loss: 0.9071   train/err: 0.1510   valid/err: 0.1492\n",
      "Step 40:   train/loss: 0.9006   valid/loss: 0.9191   train/err: 0.1313   valid/err: 0.1497\n",
      "Step 41:   train/loss: 0.8854   valid/loss: 0.9298   train/err: 0.1197   valid/err: 0.1572\n",
      "Step 42:   train/loss: 0.8849   valid/loss: 0.9319   train/err: 0.1613   valid/err: 0.1522\n",
      "Step 43:   train/loss: 0.8244   valid/loss: 0.9294   train/err: 0.1264   valid/err: 0.1530\n",
      "Step 44:   train/loss: 0.7888   valid/loss: 0.9291   train/err: 0.1512   valid/err: 0.1529\n",
      "Step 45:   train/loss: 0.8412   valid/loss: 0.9282   train/err: 0.1234   valid/err: 0.1526\n",
      "Step 46:   train/loss: 0.8077   valid/loss: 0.9251   train/err: 0.1034   valid/err: 0.1525\n",
      "Step 47:   train/loss: 0.8125   valid/loss: 0.9264   train/err: 0.1222   valid/err: 0.1530\n",
      "Step 48:   train/loss: 0.8543   valid/loss: 0.9410   train/err: 0.1372   valid/err: 0.1518\n",
      "Step 49:   train/loss: 0.8332   valid/loss: 0.9566   train/err: 0.1330   valid/err: 0.1535\n",
      "Step 50:   train/loss: 0.8183   valid/loss: 0.9601   train/err: 0.1260   valid/err: 0.1531\n",
      "Step 51:   train/loss: 0.7895   valid/loss: 0.9589   train/err: 0.1301   valid/err: 0.1537\n",
      "Step 52:   train/loss: 0.9483   valid/loss: 0.9187   train/err: 0.1369   valid/err: 0.1544\n",
      "Step 53:   train/loss: 0.7754   valid/loss: 0.9189   train/err: 0.1312   valid/err: 0.1544\n",
      "Step 54:   train/loss: 0.9176   valid/loss: 0.9306   train/err: 0.1212   valid/err: 0.1503\n",
      "Step 55:   train/loss: 0.7965   valid/loss: 0.9492   train/err: 0.0991   valid/err: 0.1498\n",
      "Step 56:   train/loss: 0.7952   valid/loss: 0.9535   train/err: 0.1292   valid/err: 0.1498\n",
      "Step 57:   train/loss: 0.7931   valid/loss: 0.9421   train/err: 0.1112   valid/err: 0.1486\n",
      "Step 58:   train/loss: 0.8312   valid/loss: 0.9637   train/err: 0.1434   valid/err: 0.1466\n",
      "Step 59:   train/loss: 0.8342   valid/loss: 0.9616   train/err: 0.1519   valid/err: 0.1461\n",
      "Step 60:   train/loss: 0.8512   valid/loss: 0.9563   train/err: 0.1415   valid/err: 0.1461\n",
      "Step 61:   train/loss: 0.8673   valid/loss: 0.9628   train/err: 0.1097   valid/err: 0.1463\n",
      "Step 62:   train/loss: 0.7675   valid/loss: 0.9710   train/err: 0.1254   valid/err: 0.1461\n",
      "Step 63:   train/loss: 0.7673   valid/loss: 0.9609   train/err: 0.1152   valid/err: 0.1478\n",
      "Step 64:   train/loss: 0.7721   valid/loss: 0.9654   train/err: 0.1481   valid/err: 0.1464\n",
      "Step 65:   train/loss: 0.8220   valid/loss: 1.0666   train/err: 0.1398   valid/err: 0.1463\n",
      "Step 66:   train/loss: 0.7876   valid/loss: 0.9814   train/err: 0.1138   valid/err: 0.1454\n",
      "Step 67:   train/loss: 0.7378   valid/loss: 1.0039   train/err: 0.1111   valid/err: 0.1456\n",
      "Step 68:   train/loss: 0.7737   valid/loss: 0.9972   train/err: 0.1318   valid/err: 0.1457\n",
      "Step 69:   train/loss: 0.7784   valid/loss: 1.0222   train/err: 0.1174   valid/err: 0.1445\n",
      "Step 70:   train/loss: 0.7683   valid/loss: 1.0198   train/err: 0.1138   valid/err: 0.1448\n",
      "Step 71:   train/loss: 0.8164   valid/loss: 0.9625   train/err: 0.1401   valid/err: 0.1464\n",
      "Step 72:   train/loss: 0.7596   valid/loss: 0.9604   train/err: 0.1269   valid/err: 0.1465\n",
      "Step 73:   train/loss: 0.7584   valid/loss: 0.9438   train/err: 0.0900   valid/err: 0.1463\n",
      "Step 74:   train/loss: 0.7490   valid/loss: 0.9502   train/err: 0.1010   valid/err: 0.1453\n",
      "Step 75:   train/loss: 0.7896   valid/loss: 0.9554   train/err: 0.1197   valid/err: 0.1452\n",
      "Step 76:   train/loss: 0.7867   valid/loss: 0.9797   train/err: 0.1189   valid/err: 0.1444\n",
      "Step 77:   train/loss: 0.7457   valid/loss: 0.9831   train/err: 0.1137   valid/err: 0.1438\n",
      "Step 78:   train/loss: 0.7396   valid/loss: 0.9943   train/err: 0.1165   valid/err: 0.1436\n",
      "Step 79:   train/loss: 0.7378   valid/loss: 0.9962   train/err: 0.1181   valid/err: 0.1436\n",
      "Step 80:   train/loss: 0.7505   valid/loss: 0.9994   train/err: 0.1051   valid/err: 0.1435\n",
      "Step 81:   train/loss: 0.7826   valid/loss: 0.9932   train/err: 0.1304   valid/err: 0.1435\n",
      "Step 82:   train/loss: 0.7454   valid/loss: 1.0072   train/err: 0.0994   valid/err: 0.1428\n",
      "Step 83:   train/loss: 0.7650   valid/loss: 0.9662   train/err: 0.1371   valid/err: 0.1439\n",
      "Step 84:   train/loss: 0.7705   valid/loss: 0.9763   train/err: 0.1204   valid/err: 0.1442\n",
      "Step 85:   train/loss: 0.7609   valid/loss: 0.9523   train/err: 0.1245   valid/err: 0.1443\n",
      "Step 86:   train/loss: 0.7632   valid/loss: 0.9802   train/err: 0.1305   valid/err: 0.1432\n",
      "Step 87:   train/loss: 0.7436   valid/loss: 0.9874   train/err: 0.0879   valid/err: 0.1432\n",
      "Step 88:   train/loss: 0.7462   valid/loss: 0.9803   train/err: 0.1166   valid/err: 0.1435\n",
      "Step 89:   train/loss: 0.7251   valid/loss: 0.9725   train/err: 0.0949   valid/err: 0.1432\n",
      "Step 90:   train/loss: 0.7308   valid/loss: 0.9953   train/err: 0.0990   valid/err: 0.1434\n",
      "Step 91:   train/loss: 0.7483   valid/loss: 0.9730   train/err: 0.1059   valid/err: 0.1435\n",
      "Step 92:   train/loss: 0.7415   valid/loss: 0.9676   train/err: 0.1139   valid/err: 0.1435\n",
      "Step 93:   train/loss: 0.7685   valid/loss: 0.9402   train/err: 0.1170   valid/err: 0.1435\n",
      "Step 94:   train/loss: 0.7604   valid/loss: 0.9375   train/err: 0.1194   valid/err: 0.1434\n",
      "Step 95:   train/loss: 0.7326   valid/loss: 0.9358   train/err: 0.1020   valid/err: 0.1434\n",
      "Step 96:   train/loss: 0.7476   valid/loss: 0.9347   train/err: 0.1227   valid/err: 0.1434\n",
      "Step 97:   train/loss: 0.7337   valid/loss: 0.9289   train/err: 0.1049   valid/err: 0.1436\n",
      "Step 98:   train/loss: 0.7415   valid/loss: 0.9315   train/err: 0.1181   valid/err: 0.1435\n",
      "Step 99:   train/loss: 0.7999   valid/loss: 0.9525   train/err: 0.1056   valid/err: 0.1429\n",
      "Step 100:  train/loss: 0.7507   valid/loss: 0.9643   train/err: 0.0983   valid/err: 0.1432\n",
      "\n",
      "Training completed!\n"
     ]
    },
    {
     "ename": "TypeError",
     "evalue": "unsupported operand type(s) for -: 'ArrayImpl' and 'list'",
     "output_type": "error",
     "traceback": [
      "\u001b[0;31m---------------------------------------------------------------------------\u001b[0m",
      "\u001b[0;31mTypeError\u001b[0m                                 Traceback (most recent call last)",
      "Cell \u001b[0;32mIn[128], line 1\u001b[0m\n\u001b[0;32m----> 1\u001b[0m \u001b[43mmain\u001b[49m\u001b[43m(\u001b[49m\u001b[43mEPOCHS\u001b[49m\u001b[43m,\u001b[49m\u001b[43m \u001b[49m\u001b[43mSEED\u001b[49m\u001b[43m,\u001b[49m\u001b[43m \u001b[49m\u001b[43mBATCH_SIZE\u001b[49m\u001b[43m)\u001b[49m\n",
      "Cell \u001b[0;32mIn[126], line 21\u001b[0m, in \u001b[0;36mmain\u001b[0;34m(EPOCHS, SEED, BATCH_SIZE)\u001b[0m\n\u001b[1;32m     19\u001b[0m \u001b[38;5;28mprint\u001b[39m(t)\n\u001b[1;32m     20\u001b[0m trainer\u001b[38;5;241m.\u001b[39mfit(train_dataset, val_dataset, eval_interval\u001b[38;5;241m=\u001b[39m\u001b[38;5;241m1\u001b[39m, log_interval\u001b[38;5;241m=\u001b[39m\u001b[38;5;241m1\u001b[39m, eval_mode\u001b[38;5;241m=\u001b[39m\u001b[38;5;124m'\u001b[39m\u001b[38;5;124mstep\u001b[39m\u001b[38;5;124m'\u001b[39m)\n\u001b[0;32m---> 21\u001b[0m test_acc \u001b[38;5;241m=\u001b[39m \u001b[43macc\u001b[49m\u001b[43m(\u001b[49m\u001b[43mmodel\u001b[49m\u001b[43m(\u001b[49m\u001b[43mtest_circuits\u001b[49m\u001b[43m)\u001b[49m\u001b[43m,\u001b[49m\u001b[43m \u001b[49m\u001b[43mtest_labels\u001b[49m\u001b[43m)\u001b[49m\n\u001b[1;32m     22\u001b[0m \u001b[38;5;28mprint\u001b[39m(\u001b[38;5;124m'\u001b[39m\u001b[38;5;124mTest accuracy:\u001b[39m\u001b[38;5;124m'\u001b[39m, test_acc)\n",
      "Cell \u001b[0;32mIn[125], line 6\u001b[0m, in \u001b[0;36m<lambda>\u001b[0;34m(y_hat, y)\u001b[0m\n\u001b[1;32m      4\u001b[0m loss \u001b[38;5;241m=\u001b[39m BinaryCrossEntropyLoss(use_jax\u001b[38;5;241m=\u001b[39m\u001b[38;5;28;01mTrue\u001b[39;00m)\n\u001b[1;32m      5\u001b[0m \u001b[38;5;66;03m#acc = lambda y_hat, y: np.sum(np.equal(np.round(y_hat),y)) / len(y) / 2\u001b[39;00m\n\u001b[0;32m----> 6\u001b[0m acc \u001b[38;5;241m=\u001b[39m \u001b[38;5;28;01mlambda\u001b[39;00m y_hat, y: np\u001b[38;5;241m.\u001b[39msqrt(np\u001b[38;5;241m.\u001b[39mmean((\u001b[43my_hat\u001b[49m\u001b[38;5;241;43m-\u001b[39;49m\u001b[43my\u001b[49m)\u001b[38;5;241m*\u001b[39m\u001b[38;5;241m*\u001b[39m\u001b[38;5;241m2\u001b[39m)\u001b[38;5;241m/\u001b[39m\u001b[38;5;241m2\u001b[39m)\n\u001b[1;32m      7\u001b[0m eval_metrics \u001b[38;5;241m=\u001b[39m {\u001b[38;5;124m\"\u001b[39m\u001b[38;5;124merr\u001b[39m\u001b[38;5;124m\"\u001b[39m: acc}\n",
      "File \u001b[0;32m~/opt/miniconda3/envs/qnlp/lib/python3.12/site-packages/jax/_src/numpy/array_methods.py:269\u001b[0m, in \u001b[0;36m_defer_to_unrecognized_arg.<locals>.deferring_binary_op\u001b[0;34m(self, other)\u001b[0m\n\u001b[1;32m    266\u001b[0m \u001b[38;5;66;03m# Note: don't use isinstance here, because we don't want to raise for\u001b[39;00m\n\u001b[1;32m    267\u001b[0m \u001b[38;5;66;03m# subclasses, e.g. NamedTuple objects that may override operators.\u001b[39;00m\n\u001b[1;32m    268\u001b[0m \u001b[38;5;28;01mif\u001b[39;00m \u001b[38;5;28mtype\u001b[39m(other) \u001b[38;5;129;01min\u001b[39;00m _rejected_binop_types:\n\u001b[0;32m--> 269\u001b[0m   \u001b[38;5;28;01mraise\u001b[39;00m \u001b[38;5;167;01mTypeError\u001b[39;00m(\u001b[38;5;124mf\u001b[39m\u001b[38;5;124m\"\u001b[39m\u001b[38;5;124munsupported operand type(s) for \u001b[39m\u001b[38;5;132;01m{\u001b[39;00mopchar\u001b[38;5;132;01m}\u001b[39;00m\u001b[38;5;124m: \u001b[39m\u001b[38;5;124m\"\u001b[39m\n\u001b[1;32m    270\u001b[0m                   \u001b[38;5;124mf\u001b[39m\u001b[38;5;124m\"\u001b[39m\u001b[38;5;132;01m{\u001b[39;00m\u001b[38;5;28mtype\u001b[39m(args[\u001b[38;5;241m0\u001b[39m])\u001b[38;5;241m.\u001b[39m\u001b[38;5;18m__name__\u001b[39m\u001b[38;5;132;01m!r}\u001b[39;00m\u001b[38;5;124m and \u001b[39m\u001b[38;5;132;01m{\u001b[39;00m\u001b[38;5;28mtype\u001b[39m(args[\u001b[38;5;241m1\u001b[39m])\u001b[38;5;241m.\u001b[39m\u001b[38;5;18m__name__\u001b[39m\u001b[38;5;132;01m!r}\u001b[39;00m\u001b[38;5;124m\"\u001b[39m)\n\u001b[1;32m    271\u001b[0m \u001b[38;5;28;01mreturn\u001b[39;00m \u001b[38;5;28mNotImplemented\u001b[39m\n",
      "\u001b[0;31mTypeError\u001b[0m: unsupported operand type(s) for -: 'ArrayImpl' and 'list'"
     ]
    }
   ],
   "source": [
    "main(EPOCHS, SEED, BATCH_SIZE)"
   ]
  },
  {
   "cell_type": "code",
   "execution_count": 12,
   "id": "00249f2e-75fb-4ba8-9d70-d3a2df0ce387",
   "metadata": {},
   "outputs": [],
   "source": [
    "def gen_emp(diags: [Diagram], model: NumpyModel) -> Model:\n",
    "    scenario = CyclicScenario(['a','b','A','B'],2)\n",
    "    prob_dist = []\n",
    "    for diag in diags:\n",
    "        prob_dist.append(model.get_diagram_output([diag])[0].flatten())\n",
    "    return Model(scenario, prob_dist)"
   ]
  },
  {
   "cell_type": "code",
   "execution_count": 13,
   "id": "e80177b7-289e-41f7-8b64-afdc81663572",
   "metadata": {},
   "outputs": [],
   "source": [
    "best_model = NumpyModel.from_checkpoint('runs/Jul02_12-46-52_smew.cs.ucl.ac.uk/best_model.lt')\n",
    "best_model.initialise_weights()"
   ]
  },
  {
   "cell_type": "code",
   "execution_count": 35,
   "id": "49a519f0-36bb-424e-bcd8-e56729c62193",
   "metadata": {
    "scrolled": true
   },
   "outputs": [
    {
     "name": "stderr",
     "output_type": "stream",
     "text": [
      "Error: Diagram 0 (cod=) does not compose with diagram 1 (dom=qubit)                                                                                      \n",
      "Error: Diagram 0 (cod=) does not compose with diagram 1 (dom=qubit)                                                                                      \n",
      "Error: Diagram 0 (cod=n @ n.r @ n @ n) does not compose with diagram 1 (dom=n @ p.r @ n)                                                                 \n",
      "Error: Diagram 0 (cod=) does not compose with diagram 1 (dom=qubit)                                                                                      \n",
      "Error: Diagram 0 (cod=) does not compose with diagram 1 (dom=qubit)                                                                                      \n",
      "Error: Diagram 0 (cod=) does not compose with diagram 1 (dom=qubit)                                                                                      \n",
      "Error: Diagram 0 (cod=) does not compose with diagram 1 (dom=qubit)                                                                                      \n",
      "100%|██████████████████████████████████████████████████████████████████████████████████████████████████████████████████| 100/100 [00:48<00:00,  2.07it/s]\n"
     ]
    }
   ],
   "source": [
    "res = []\n",
    "x = df_test[:100]\n",
    "for i, row in tqdm(x.iterrows(), total=len(x)):\n",
    "    try:\n",
    "        s1, s2, p, n = row[['sentence1','sentence2','pronoun','referent']]\n",
    "        diag = ansatz(sent2dig(s1, s2, p, n))\n",
    "        \n",
    "        diagXX = diag.apply_gate(Ry(0),0)\n",
    "        diagXX = diagXX.apply_gate(Ry(np.pi/8),1)\n",
    "        \n",
    "        diagXZ = diag.apply_gate(Ry(0),0)\n",
    "        diagXZ = diagXZ.apply_gate(Ry(3*np.pi/8),1)\n",
    "        \n",
    "        diagZX = diag.apply_gate(Ry(np.pi/4),0)\n",
    "        diagZX = diagZX.apply_gate(Ry(np.pi/8),1)\n",
    "        \n",
    "        diagZZ = diag.apply_gate(Ry(np.pi/4),0)\n",
    "        diagZZ = diagZZ.apply_gate(Ry(3*np.pi/8),1)\n",
    "        \n",
    "        emp_model = gen_emp([diagXX, diagXZ, diagZX, diagZZ], best_model)\n",
    "        \n",
    "        # res.append((emp_model.contextual_fraction(),\n",
    "        #               emp_model.signalling_fraction(),\n",
    "        #               emp_model.CbD_direct_influence(),\n",
    "        #               emp_model.CbD_measure()))\n",
    "        res.append(emp_model)\n",
    "    except Exception as e:\n",
    "        tqdm.write(f\"Error: {e}\".strip(), file=sys.stderr)"
   ]
  },
  {
   "cell_type": "code",
   "execution_count": 53,
   "id": "58182f4f-a65c-41b8-98eb-11a27085d710",
   "metadata": {},
   "outputs": [
    {
     "data": {
      "image/png": "[encoded data removed]",
      "text/plain": [
       "<Figure size 640x480 with 1 Axes>"
      ]
     },
     "metadata": {},
     "output_type": "display_data"
    }
   ],
   "source": [
    "import matplotlib.pyplot as plt\n",
    "x, y = [], []\n",
    "for mod in res:\n",
    "    x.append(mod.signalling_fraction())\n",
    "    y.append(mod.CbD_direct_influence())\n",
    "plt.scatter(x, y)\n",
    "plt.axhline(y=2, color='g', linestyle='-')\n",
    "plt.axvline(x=1/6, color='g', linestyle='-')\n",
    "plt.show()"
   ]
  },
  {
   "cell_type": "code",
   "execution_count": null,
   "id": "013ca08d-d811-4182-b35e-f5f3c85fcf67",
   "metadata": {},
   "outputs": [],
   "source": []
  }
 ],
 "metadata": {
  "kernelspec": {
   "display_name": "qnlp",
   "language": "python",
   "name": "qnlp"
  },
  "language_info": {
   "codemirror_mode": {
    "name": "ipython",
    "version": 3
   },
   "file_extension": ".py",
   "mimetype": "text/x-python",
   "name": "python",
   "nbconvert_exporter": "python",
   "pygments_lexer": "ipython3",
   "version": "3.12.3"
  }
 },
 "nbformat": 4,
 "nbformat_minor": 5
}
