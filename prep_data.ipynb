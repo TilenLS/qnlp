{
 "cells": [
  {
   "cell_type": "code",
   "execution_count": 84,
   "id": "79d9bea1-8ad9-4ae6-b905-bc35da3d23e4",
   "metadata": {},
   "outputs": [],
   "source": [
    "import numpy as np\n",
    "import pandas as pd \n",
    "from tqdm import tqdm\n",
    "\n",
    "df_train = pd.read_csv('dataset/original_data/train.csv', index_col=0)\n",
    "df_test = pd.read_csv('dataset/original_data/test.csv', index_col=0)\n",
    "df_val = pd.read_csv('dataset/original_data/val.csv', index_col=0)\n",
    "\n",
    "df = pd.concat([df_train, df_test, df_val])"
   ]
  },
  {
   "cell_type": "code",
   "execution_count": 85,
   "id": "0917124f-5b00-4ed6-a784-dda47b6425a5",
   "metadata": {},
   "outputs": [],
   "source": [
    "def merge_duplicates(df: pd.DataFrame) -> pd.DataFrame:\n",
    "    df.sort_values(by='sentence1', inplace=True, ignore_index=True)\n",
    "    targets = [i for i, val in df.duplicated(keep=False, subset=['sentence1']).items() if val]\n",
    "    dupes = []    \n",
    "    for i in targets:\n",
    "        next_row = i + 1\n",
    "        while next_row < len(df) and df.iloc[i]['sentence1'] == df.iloc[next_row]['sentence1']:\n",
    "            entry1 = df.iloc[i]\n",
    "            entry2 = df.iloc[next_row]\n",
    "            new_entry = pd.Series({\n",
    "                                    'sentence1': entry1['sentence1'], \n",
    "                                    'sentence21': entry1['sentence2'], \n",
    "                                    'sentence22': entry2['sentence2'], \n",
    "                                    'pronoun': entry1['pronoun'], \n",
    "                                    'referent1': entry1['referent'], \n",
    "                                    'wrong_referent1': entry1['wrong_referent'], \n",
    "                                    'referent2': entry2['referent'], \n",
    "                                    'wrong_referent2': entry2['wrong_referent']})            \n",
    "            dupes.append(new_entry)\n",
    "            next_row += 1\n",
    "    df_dup = pd.DataFrame(dupes)\n",
    "    return df_dup.reset_index(drop=True)"
   ]
  },
  {
   "cell_type": "code",
   "execution_count": 86,
   "id": "3737e64b-d8f2-434a-93d7-9850d3c27376",
   "metadata": {},
   "outputs": [],
   "source": [
    "merge_duplicates(df).to_csv('dupes.csv')"
   ]
  },
  {
   "cell_type": "code",
   "execution_count": 91,
   "id": "09368599-49eb-4835-8d4d-c8a5509ef024",
   "metadata": {},
   "outputs": [],
   "source": [
    "def split_data(df: pd.DataFrame) -> None:\n",
    "    df_train = df.sample(frac=0.6)\n",
    "    df_rest = df.drop(df_train.index)\n",
    "    \n",
    "    df_valid = df_rest.sample(frac=0.5)\n",
    "    df_test = df_rest.drop(df_valid.index)\n",
    "\n",
    "    df_train = df_train.reset_index(drop=True)\n",
    "    df_valid = df_valid.reset_index(drop=True)\n",
    "    df_test = df_test.reset_index(drop=True)\n",
    "\n",
    "    df_train.to_csv('train_60.csv')\n",
    "    df_valid.to_csv('valid_20.csv')\n",
    "    df_test.to_csv('test_20.csv')"
   ]
  },
  {
   "cell_type": "code",
   "execution_count": 92,
   "id": "1f738bb2-70ed-4136-9ff2-d5addb398121",
   "metadata": {},
   "outputs": [],
   "source": [
    "df_dupes = pd.read_csv('dataset/dupes.csv', index_col=0)\n",
    "\n",
    "split_data(df_dupes)"
   ]
  },
  {
   "cell_type": "code",
   "execution_count": 115,
   "id": "8b35d8a5-b7af-4512-a027-cbe52aa3d1fa",
   "metadata": {},
   "outputs": [],
   "source": [
    "def check_duplicates(df: pd.DataFrame) -> bool:\n",
    "    df.sort_values(by='sentence1', inplace=True, ignore_index=True)\n",
    "    \n",
    "    sent_pairs = []\n",
    "    prev_sent1 = None\n",
    "    \n",
    "    for _, row in df.iterrows():\n",
    "        # Check for identical duplicate row entries\n",
    "        if row['sentence21'] == row['sentence22']:\n",
    "            return True\n",
    "        if prev_sent1 != row['sentence1']:\n",
    "            sent_pairs.append([])\n",
    "        sent_pairs[-1].append([row['sentence21'], row['sentence22']])\n",
    "        prev_sent1 = row['sentence1']\n",
    "\n",
    "    for entry in sent_pairs:\n",
    "        for i in range(len(entry)):\n",
    "            pair = entry[i]\n",
    "            # Check for identical triplets of the form (sent1, sent21, sent22) and (sent1, sent21, sent22)\n",
    "            if pair in entry[:i] or pair in entry[i+1:]:\n",
    "                return True\n",
    "            # Check for similar triplets of the form (sent1, sent21, sent22) and (sent1, sent22, sent21)\n",
    "            if pair.reverse() in entry[:i] or pair.reverse() in entry[i+1:]:\n",
    "                return True\n",
    "                \n",
    "    return False"
   ]
  },
  {
   "cell_type": "code",
   "execution_count": 117,
   "id": "ba7a8751-e959-4620-895c-90f7ce1d114f",
   "metadata": {},
   "outputs": [
    {
     "name": "stdout",
     "output_type": "stream",
     "text": [
      "False\n"
     ]
    }
   ],
   "source": [
    "print(check_duplicates(df_dupes))"
   ]
  },
  {
   "cell_type": "code",
   "execution_count": null,
   "id": "126dbba9-30c4-43d1-b256-5a6b7118e6d0",
   "metadata": {},
   "outputs": [],
   "source": []
  }
 ],
 "metadata": {
  "kernelspec": {
   "display_name": "qnlp",
   "language": "python",
   "name": "qnlp"
  },
  "language_info": {
   "codemirror_mode": {
    "name": "ipython",
    "version": 3
   },
   "file_extension": ".py",
   "mimetype": "text/x-python",
   "name": "python",
   "nbconvert_exporter": "python",
   "pygments_lexer": "ipython3",
   "version": "3.12.3"
  }
 },
 "nbformat": 4,
 "nbformat_minor": 5
}
